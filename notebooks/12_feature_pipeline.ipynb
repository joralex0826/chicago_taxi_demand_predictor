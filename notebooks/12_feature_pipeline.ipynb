{
 "cells": [
  {
   "cell_type": "code",
   "execution_count": 2,
   "metadata": {},
   "outputs": [],
   "source": [
    "import src.config as config"
   ]
  },
  {
   "cell_type": "code",
   "execution_count": 3,
   "metadata": {},
   "outputs": [
    {
     "name": "stdout",
     "output_type": "stream",
     "text": [
      "current_date=Timestamp('2025-03-30 20:00:00+0000', tz='UTC')\n",
      "2025-03-02 20:00:00+00:00 2025-03-30 20:00:00+00:00\n"
     ]
    }
   ],
   "source": [
    "from datetime import datetime, timedelta\n",
    "\n",
    "import pandas as pd\n",
    "\n",
    "current_date = pd.Timestamp.now(tz=\"UTC\").floor('H')\n",
    "print(f'{current_date=}')\n",
    "\n",
    "# we fetch raw data for the last 28 days, to add redundancy to our data pipeline\n",
    "fetch_data_to = current_date\n",
    "fetch_data_from = max(current_date - timedelta(days=28), pd.Timestamp(\"2024-01-01\", tz=\"UTC\"))\n",
    "print(fetch_data_from, fetch_data_to)"
   ]
  },
  {
   "cell_type": "code",
   "execution_count": 4,
   "metadata": {},
   "outputs": [],
   "source": [
    "from src.data import load_raw_data\n",
    "from src.data import merge_geo_and_ts_data\n"
   ]
  },
  {
   "cell_type": "code",
   "execution_count": 5,
   "metadata": {},
   "outputs": [],
   "source": [
    "def fetch_batch_raw_data(from_date: datetime, to_date: datetime) -> pd.DataFrame:\n",
    "    \"\"\"\n",
    "    Simula producción de datos pero ajustándose al rango disponible (desde enero 2024).\n",
    "    \"\"\"\n",
    "    # Intentamos retroceder 52 semanas, pero respetamos el límite mínimo de enero 2024\n",
    "    from_date_ = max(from_date - timedelta(days=7*52), pd.Timestamp(\"2024-01-01\", tz=\"UTC\"))\n",
    "    to_date_ = max(to_date - timedelta(days=7*52), pd.Timestamp(\"2024-01-01\", tz=\"UTC\"))\n",
    "    \n",
    "    print(f'{from_date=}, {to_date_=}')\n",
    "\n",
    "    # Cargar solo los datos dentro del rango disponible\n",
    "    rides = load_raw_data()\n",
    "    rides = merge_geo_and_ts_data(rides)\n",
    "\n",
    "    # Solo ajustamos la fecha si no estamos en el límite inferior\n",
    "    if from_date_ > pd.Timestamp(\"2024-01-01\", tz=\"UTC\"):\n",
    "        rides['pickup_datetime'] += timedelta(days=7*52)\n",
    "\n",
    "    rides.sort_values(by=['pickup_location', 'pickup_datetime'], inplace=True)\n",
    "\n",
    "    return rides\n",
    "\n"
   ]
  },
  {
   "cell_type": "code",
   "execution_count": 6,
   "metadata": {},
   "outputs": [
    {
     "name": "stdout",
     "output_type": "stream",
     "text": [
      "from_date=Timestamp('2025-03-02 20:00:00+0000', tz='UTC'), to_date_=Timestamp('2024-03-31 20:00:00+0000', tz='UTC')\n"
     ]
    },
    {
     "name": "stderr",
     "output_type": "stream",
     "text": [
      "Downloading...\n",
      "From (original): https://drive.google.com/uc?id=1dj6DhNhELjnxjziXIGlo4FhPneXauFV8\n",
      "From (redirected): https://drive.google.com/uc?id=1dj6DhNhELjnxjziXIGlo4FhPneXauFV8&confirm=t&uuid=f2a0f751-cc18-4741-a74f-935b0a9ccac8\n",
      "To: C:\\Users\\joral_08cedew\\chicago_taxi_demand_predictor\\data\\raw\\taxi_trips.parquet\n",
      "100%|██████████| 437M/437M [00:09<00:00, 45.9MB/s] \n"
     ]
    },
    {
     "name": "stdout",
     "output_type": "stream",
     "text": [
      "Taxi data downloaded: C:\\Users\\joral_08cedew\\chicago_taxi_demand_predictor\\data\\raw\\taxi_trips.parquet\n",
      "Date range: 2024-01-01 00:00:00 to 2025-02-01 00:00:00\n"
     ]
    },
    {
     "name": "stderr",
     "output_type": "stream",
     "text": [
      "Downloading...\n",
      "From: https://drive.google.com/uc?id=1AqIi-XKEuLosLZbMYTGTRbWEOWotz_pZ\n",
      "To: C:\\Users\\joral_08cedew\\chicago_taxi_demand_predictor\\data\\raw\\chicago_geo_data.parquet\n",
      "100%|██████████| 1.30M/1.30M [00:00<00:00, 3.70MB/s]\n"
     ]
    },
    {
     "name": "stdout",
     "output_type": "stream",
     "text": [
      "Geo data downloaded: C:\\Users\\joral_08cedew\\chicago_taxi_demand_predictor\\data\\raw\\chicago_geo_data.parquet\n"
     ]
    }
   ],
   "source": [
    "rides = fetch_batch_raw_data(from_date=fetch_data_from, to_date=fetch_data_to)"
   ]
  },
  {
   "cell_type": "code",
   "execution_count": 7,
   "metadata": {},
   "outputs": [
    {
     "data": {
      "text/html": [
       "<div>\n",
       "<style scoped>\n",
       "    .dataframe tbody tr th:only-of-type {\n",
       "        vertical-align: middle;\n",
       "    }\n",
       "\n",
       "    .dataframe tbody tr th {\n",
       "        vertical-align: top;\n",
       "    }\n",
       "\n",
       "    .dataframe thead th {\n",
       "        text-align: right;\n",
       "    }\n",
       "</style>\n",
       "<table border=\"1\" class=\"dataframe\">\n",
       "  <thead>\n",
       "    <tr style=\"text-align: right;\">\n",
       "      <th></th>\n",
       "      <th>pickup_datetime</th>\n",
       "      <th>pickup_latitude</th>\n",
       "      <th>pickup_longitude</th>\n",
       "      <th>pickup_location</th>\n",
       "    </tr>\n",
       "  </thead>\n",
       "  <tbody>\n",
       "    <tr>\n",
       "      <th>121951</th>\n",
       "      <td>2024-12-30 00:00:00</td>\n",
       "      <td>41.968069</td>\n",
       "      <td>-87.721559</td>\n",
       "      <td>Albany Park</td>\n",
       "    </tr>\n",
       "    <tr>\n",
       "      <th>418832</th>\n",
       "      <td>2024-12-30 00:30:00</td>\n",
       "      <td>41.968069</td>\n",
       "      <td>-87.721559</td>\n",
       "      <td>Albany Park</td>\n",
       "    </tr>\n",
       "    <tr>\n",
       "      <th>276943</th>\n",
       "      <td>2024-12-30 02:45:00</td>\n",
       "      <td>41.968069</td>\n",
       "      <td>-87.721559</td>\n",
       "      <td>Albany Park</td>\n",
       "    </tr>\n",
       "    <tr>\n",
       "      <th>250449</th>\n",
       "      <td>2024-12-30 03:00:00</td>\n",
       "      <td>41.968069</td>\n",
       "      <td>-87.721559</td>\n",
       "      <td>Albany Park</td>\n",
       "    </tr>\n",
       "    <tr>\n",
       "      <th>347035</th>\n",
       "      <td>2024-12-30 03:15:00</td>\n",
       "      <td>41.968069</td>\n",
       "      <td>-87.721559</td>\n",
       "      <td>Albany Park</td>\n",
       "    </tr>\n",
       "    <tr>\n",
       "      <th>...</th>\n",
       "      <td>...</td>\n",
       "      <td>...</td>\n",
       "      <td>...</td>\n",
       "      <td>...</td>\n",
       "    </tr>\n",
       "    <tr>\n",
       "      <th>6726001</th>\n",
       "      <td>2026-01-03 21:45:00</td>\n",
       "      <td>41.949140</td>\n",
       "      <td>-87.656804</td>\n",
       "      <td>Wrigleyville</td>\n",
       "    </tr>\n",
       "    <tr>\n",
       "      <th>6764720</th>\n",
       "      <td>2026-01-03 21:45:00</td>\n",
       "      <td>41.949140</td>\n",
       "      <td>-87.656804</td>\n",
       "      <td>Wrigleyville</td>\n",
       "    </tr>\n",
       "    <tr>\n",
       "      <th>6859776</th>\n",
       "      <td>2026-01-03 21:45:00</td>\n",
       "      <td>41.949140</td>\n",
       "      <td>-87.656804</td>\n",
       "      <td>Wrigleyville</td>\n",
       "    </tr>\n",
       "    <tr>\n",
       "      <th>6872223</th>\n",
       "      <td>2026-01-04 00:00:00</td>\n",
       "      <td>41.949140</td>\n",
       "      <td>-87.656804</td>\n",
       "      <td>Wrigleyville</td>\n",
       "    </tr>\n",
       "    <tr>\n",
       "      <th>6786914</th>\n",
       "      <td>2026-01-07 11:30:00</td>\n",
       "      <td>41.952719</td>\n",
       "      <td>-87.660504</td>\n",
       "      <td>Wrigleyville</td>\n",
       "    </tr>\n",
       "  </tbody>\n",
       "</table>\n",
       "<p>6905288 rows × 4 columns</p>\n",
       "</div>"
      ],
      "text/plain": [
       "            pickup_datetime  pickup_latitude  pickup_longitude pickup_location\n",
       "121951  2024-12-30 00:00:00        41.968069        -87.721559     Albany Park\n",
       "418832  2024-12-30 00:30:00        41.968069        -87.721559     Albany Park\n",
       "276943  2024-12-30 02:45:00        41.968069        -87.721559     Albany Park\n",
       "250449  2024-12-30 03:00:00        41.968069        -87.721559     Albany Park\n",
       "347035  2024-12-30 03:15:00        41.968069        -87.721559     Albany Park\n",
       "...                     ...              ...               ...             ...\n",
       "6726001 2026-01-03 21:45:00        41.949140        -87.656804    Wrigleyville\n",
       "6764720 2026-01-03 21:45:00        41.949140        -87.656804    Wrigleyville\n",
       "6859776 2026-01-03 21:45:00        41.949140        -87.656804    Wrigleyville\n",
       "6872223 2026-01-04 00:00:00        41.949140        -87.656804    Wrigleyville\n",
       "6786914 2026-01-07 11:30:00        41.952719        -87.660504    Wrigleyville\n",
       "\n",
       "[6905288 rows x 4 columns]"
      ]
     },
     "execution_count": 7,
     "metadata": {},
     "output_type": "execute_result"
    }
   ],
   "source": [
    "rides"
   ]
  },
  {
   "cell_type": "code",
   "execution_count": 8,
   "metadata": {},
   "outputs": [
    {
     "name": "stderr",
     "output_type": "stream",
     "text": [
      "100%|██████████| 95/95 [00:02<00:00, 37.27it/s]\n"
     ]
    }
   ],
   "source": [
    "from src.data import transform_raw_data_into_ts_data\n",
    "ts_data = transform_raw_data_into_ts_data(rides)"
   ]
  },
  {
   "cell_type": "code",
   "execution_count": 9,
   "metadata": {},
   "outputs": [],
   "source": [
    "# string to datetime\n",
    "ts_data['pickup_hour'] = pd.to_datetime(ts_data['pickup_hour'], utc=True)\n",
    "\n",
    "# add column with Unix epoch milliseconds\n",
    "ts_data['pickup_ts'] = ts_data['pickup_hour'].astype('int64') // 10**6"
   ]
  },
  {
   "cell_type": "code",
   "execution_count": 10,
   "metadata": {},
   "outputs": [
    {
     "name": "stdout",
     "output_type": "stream",
     "text": [
      "2025-03-30 15:33:38,678 INFO: Initializing external client\n",
      "2025-03-30 15:33:38,679 INFO: Base URL: https://c.app.hopsworks.ai:443\n",
      "2025-03-30 15:33:39,930 INFO: Python Engine initialized.\n",
      "\n",
      "Logged in to project, explore it here https://c.app.hopsworks.ai:443/p/1220769\n"
     ]
    }
   ],
   "source": [
    "import hopsworks\n",
    "\n",
    "# connect to the project\n",
    "project = hopsworks.login(\n",
    "    project=config.HOPSWORKS_PROJECT_NAME,\n",
    "    api_key_value=config.HOPSWORKS_API_KEY\n",
    ")\n",
    "\n",
    "# connect to the feature store\n",
    "feature_store = project.get_feature_store()\n",
    "\n",
    "# connect to the feature group\n",
    "feature_group = feature_store.get_or_create_feature_group(\n",
    "    name=config.FEATURE_GROUP_NAME,\n",
    "    version=config.FEATURE_GROUP_VERSION,\n",
    "    description=\"Time-series data at hourly frequency\",\n",
    "    primary_key = ['pickup_location', 'pickup_hour'],\n",
    "    event_time='pickup_hour',\n",
    ")"
   ]
  },
  {
   "cell_type": "code",
   "execution_count": 12,
   "metadata": {},
   "outputs": [
    {
     "name": "stderr",
     "output_type": "stream",
     "text": [
      "Uploading Dataframe: 100.00% |██████████| Rows 905255/905255 | Elapsed Time: 00:53 | Remaining Time: 00:00\n"
     ]
    },
    {
     "name": "stdout",
     "output_type": "stream",
     "text": [
      "Launching job: time_series_hourly_feature_group_1_offline_fg_materialization\n",
      "Job started successfully, you can follow the progress at \n",
      "https://c.app.hopsworks.ai:443/p/1220769/jobs/named/time_series_hourly_feature_group_1_offline_fg_materialization/executions\n",
      "2025-03-30 15:46:01,913 INFO: Waiting for execution to finish. Current state: INITIALIZING. Final status: UNDEFINED\n",
      "2025-03-30 15:46:05,080 INFO: Waiting for execution to finish. Current state: SUBMITTED. Final status: UNDEFINED\n",
      "2025-03-30 15:46:49,424 INFO: Waiting for execution to finish. Current state: RUNNING. Final status: UNDEFINED\n",
      "2025-03-30 15:49:50,197 INFO: Waiting for log aggregation to finish.\n",
      "2025-03-30 15:50:51,772 INFO: Execution finished successfully.\n"
     ]
    },
    {
     "data": {
      "text/plain": [
       "(Job('time_series_hourly_feature_group_1_offline_fg_materialization', 'SPARK'),\n",
       " None)"
      ]
     },
     "execution_count": 12,
     "metadata": {},
     "output_type": "execute_result"
    }
   ],
   "source": [
    "feature_group.insert(ts_data, write_options={\"wait_for_job\": True})"
   ]
  }
 ],
 "metadata": {
  "kernelspec": {
   "display_name": ".venv",
   "language": "python",
   "name": "python3"
  },
  "language_info": {
   "codemirror_mode": {
    "name": "ipython",
    "version": 3
   },
   "file_extension": ".py",
   "mimetype": "text/x-python",
   "name": "python",
   "nbconvert_exporter": "python",
   "pygments_lexer": "ipython3",
   "version": "3.12.9"
  }
 },
 "nbformat": 4,
 "nbformat_minor": 2
}
