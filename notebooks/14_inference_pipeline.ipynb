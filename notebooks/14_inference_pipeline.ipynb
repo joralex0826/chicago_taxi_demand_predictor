{
 "cells": [
  {
   "cell_type": "code",
   "execution_count": 2,
   "metadata": {},
   "outputs": [
    {
     "name": "stdout",
     "output_type": "stream",
     "text": [
      "The autoreload extension is already loaded. To reload it, use:\n",
      "  %reload_ext autoreload\n"
     ]
    }
   ],
   "source": [
    "%load_ext autoreload\n",
    "%autoreload 2"
   ]
  },
  {
   "cell_type": "code",
   "execution_count": 3,
   "metadata": {},
   "outputs": [
    {
     "name": "stdout",
     "output_type": "stream",
     "text": [
      "current_date=Timestamp('2025-03-30 05:00:00+0000', tz='UTC')\n"
     ]
    }
   ],
   "source": [
    "from datetime import datetime, timedelta\n",
    "import pandas as pd\n",
    "\n",
    "current_date = pd.Timestamp.now(tz=\"UTC\").floor('H')\n",
    "print(f'{current_date=}')"
   ]
  },
  {
   "cell_type": "code",
   "execution_count": 4,
   "metadata": {},
   "outputs": [
    {
     "name": "stdout",
     "output_type": "stream",
     "text": [
      "2025-03-30 00:56:53,706 INFO: Initializing external client\n",
      "2025-03-30 00:56:53,707 INFO: Base URL: https://c.app.hopsworks.ai:443\n",
      "2025-03-30 00:56:55,039 INFO: Python Engine initialized.\n",
      "\n",
      "Logged in to project, explore it here https://c.app.hopsworks.ai:443/p/1220769\n",
      "Fetching data from 2025-03-02 05:00:00+00:00 to 2025-03-30 04:00:00+00:00\n",
      "Finished: Reading data from Hopsworks, using Hopsworks Feature Query Service (3.32s) \n",
      "ts_data:                     pickup_hour  rides  pickup_longitude  pickup_latitude  \\\n",
      "57608 2025-03-02 05:00:00+00:00      1        -87.721559        41.968069   \n",
      "47169 2025-03-02 06:00:00+00:00      0        -87.721559        41.968069   \n",
      "17372 2025-03-02 07:00:00+00:00      1        -87.721559        41.968069   \n",
      "42067 2025-03-02 08:00:00+00:00      0        -87.721559        41.968069   \n",
      "41886 2025-03-02 09:00:00+00:00      1        -87.721559        41.968069   \n",
      "...                         ...    ...               ...              ...   \n",
      "45476 2025-03-30 00:00:00+00:00      0        -87.656804        41.949140   \n",
      "10756 2025-03-30 01:00:00+00:00      0        -87.656804        41.949140   \n",
      "12337 2025-03-30 02:00:00+00:00      0        -87.656804        41.949140   \n",
      "27383 2025-03-30 03:00:00+00:00      0        -87.656804        41.949140   \n",
      "13987 2025-03-30 04:00:00+00:00      0        -87.656804        41.949140   \n",
      "\n",
      "      pickup_location      pickup_ts  \n",
      "57608     Albany Park  1740891600000  \n",
      "47169     Albany Park  1740895200000  \n",
      "17372     Albany Park  1740898800000  \n",
      "42067     Albany Park  1740902400000  \n",
      "41886     Albany Park  1740906000000  \n",
      "...               ...            ...  \n",
      "45476    Wrigleyville  1743292800000  \n",
      "10756    Wrigleyville  1743296400000  \n",
      "12337    Wrigleyville  1743300000000  \n",
      "27383    Wrigleyville  1743303600000  \n",
      "13987    Wrigleyville  1743307200000  \n",
      "\n",
      "[63840 rows x 6 columns]\n"
     ]
    }
   ],
   "source": [
    "from src.inference import load_batch_of_features_from_store\n",
    "\n",
    "features = load_batch_of_features_from_store(current_date)"
   ]
  },
  {
   "cell_type": "code",
   "execution_count": 5,
   "metadata": {},
   "outputs": [
    {
     "name": "stdout",
     "output_type": "stream",
     "text": [
      "2025-03-30 00:57:03,288 INFO: Closing external client and cleaning up certificates.\n",
      "Connection closed.\n",
      "2025-03-30 00:57:03,293 INFO: Initializing external client\n",
      "2025-03-30 00:57:03,293 INFO: Base URL: https://c.app.hopsworks.ai:443\n",
      "2025-03-30 00:57:04,418 INFO: Python Engine initialized.\n",
      "\n",
      "Logged in to project, explore it here https://c.app.hopsworks.ai:443/p/1220769\n",
      "Downloading model artifact (0 dirs, 1 files)... DONE\r"
     ]
    }
   ],
   "source": [
    "from src.inference import (\n",
    "    load_model_from_registry,\n",
    "    get_model_predictions\n",
    ")\n",
    "\n",
    "model = load_model_from_registry()\n",
    "predictions = get_model_predictions(model, features)"
   ]
  },
  {
   "cell_type": "code",
   "execution_count": 6,
   "metadata": {},
   "outputs": [
    {
     "data": {
      "text/html": [
       "<div>\n",
       "<style scoped>\n",
       "    .dataframe tbody tr th:only-of-type {\n",
       "        vertical-align: middle;\n",
       "    }\n",
       "\n",
       "    .dataframe tbody tr th {\n",
       "        vertical-align: top;\n",
       "    }\n",
       "\n",
       "    .dataframe thead th {\n",
       "        text-align: right;\n",
       "    }\n",
       "</style>\n",
       "<table border=\"1\" class=\"dataframe\">\n",
       "  <thead>\n",
       "    <tr style=\"text-align: right;\">\n",
       "      <th></th>\n",
       "      <th>pickup_location</th>\n",
       "      <th>predicted_demand</th>\n",
       "      <th>pickup_hour</th>\n",
       "    </tr>\n",
       "  </thead>\n",
       "  <tbody>\n",
       "    <tr>\n",
       "      <th>0</th>\n",
       "      <td>Albany Park</td>\n",
       "      <td>1.0</td>\n",
       "      <td>2025-03-30 05:00:00+00:00</td>\n",
       "    </tr>\n",
       "    <tr>\n",
       "      <th>1</th>\n",
       "      <td>Andersonville</td>\n",
       "      <td>0.0</td>\n",
       "      <td>2025-03-30 05:00:00+00:00</td>\n",
       "    </tr>\n",
       "    <tr>\n",
       "      <th>2</th>\n",
       "      <td>Archer Heights</td>\n",
       "      <td>0.0</td>\n",
       "      <td>2025-03-30 05:00:00+00:00</td>\n",
       "    </tr>\n",
       "    <tr>\n",
       "      <th>3</th>\n",
       "      <td>Armour Square</td>\n",
       "      <td>0.0</td>\n",
       "      <td>2025-03-30 05:00:00+00:00</td>\n",
       "    </tr>\n",
       "    <tr>\n",
       "      <th>4</th>\n",
       "      <td>Ashburn</td>\n",
       "      <td>0.0</td>\n",
       "      <td>2025-03-30 05:00:00+00:00</td>\n",
       "    </tr>\n",
       "    <tr>\n",
       "      <th>...</th>\n",
       "      <td>...</td>\n",
       "      <td>...</td>\n",
       "      <td>...</td>\n",
       "    </tr>\n",
       "    <tr>\n",
       "      <th>90</th>\n",
       "      <td>West Ridge</td>\n",
       "      <td>1.0</td>\n",
       "      <td>2025-03-30 05:00:00+00:00</td>\n",
       "    </tr>\n",
       "    <tr>\n",
       "      <th>91</th>\n",
       "      <td>West Town</td>\n",
       "      <td>0.0</td>\n",
       "      <td>2025-03-30 05:00:00+00:00</td>\n",
       "    </tr>\n",
       "    <tr>\n",
       "      <th>92</th>\n",
       "      <td>Wicker Park</td>\n",
       "      <td>0.0</td>\n",
       "      <td>2025-03-30 05:00:00+00:00</td>\n",
       "    </tr>\n",
       "    <tr>\n",
       "      <th>93</th>\n",
       "      <td>Woodlawn</td>\n",
       "      <td>0.0</td>\n",
       "      <td>2025-03-30 05:00:00+00:00</td>\n",
       "    </tr>\n",
       "    <tr>\n",
       "      <th>94</th>\n",
       "      <td>Wrigleyville</td>\n",
       "      <td>0.0</td>\n",
       "      <td>2025-03-30 05:00:00+00:00</td>\n",
       "    </tr>\n",
       "  </tbody>\n",
       "</table>\n",
       "<p>95 rows × 3 columns</p>\n",
       "</div>"
      ],
      "text/plain": [
       "   pickup_location  predicted_demand               pickup_hour\n",
       "0      Albany Park               1.0 2025-03-30 05:00:00+00:00\n",
       "1    Andersonville               0.0 2025-03-30 05:00:00+00:00\n",
       "2   Archer Heights               0.0 2025-03-30 05:00:00+00:00\n",
       "3    Armour Square               0.0 2025-03-30 05:00:00+00:00\n",
       "4          Ashburn               0.0 2025-03-30 05:00:00+00:00\n",
       "..             ...               ...                       ...\n",
       "90      West Ridge               1.0 2025-03-30 05:00:00+00:00\n",
       "91       West Town               0.0 2025-03-30 05:00:00+00:00\n",
       "92     Wicker Park               0.0 2025-03-30 05:00:00+00:00\n",
       "93        Woodlawn               0.0 2025-03-30 05:00:00+00:00\n",
       "94    Wrigleyville               0.0 2025-03-30 05:00:00+00:00\n",
       "\n",
       "[95 rows x 3 columns]"
      ]
     },
     "execution_count": 6,
     "metadata": {},
     "output_type": "execute_result"
    }
   ],
   "source": [
    "predictions['pickup_hour'] = current_date\n",
    "predictions"
   ]
  },
  {
   "cell_type": "code",
   "execution_count": 7,
   "metadata": {},
   "outputs": [
    {
     "name": "stdout",
     "output_type": "stream",
     "text": [
      "2025-03-30 00:57:08,199 INFO: Closing external client and cleaning up certificates.\n",
      "Connection closed.\n",
      "2025-03-30 00:57:08,201 INFO: Initializing external client\n",
      "2025-03-30 00:57:08,201 INFO: Base URL: https://c.app.hopsworks.ai:443\n",
      "2025-03-30 00:57:09,378 INFO: Python Engine initialized.\n",
      "\n",
      "Logged in to project, explore it here https://c.app.hopsworks.ai:443/p/1220769\n"
     ]
    }
   ],
   "source": [
    "from src.feature_store_api import get_feature_store\n",
    "import src.config as config\n",
    "\n",
    "feature_group = get_feature_store().get_or_create_feature_group(\n",
    "    name=config.FEATURE_GROUP_MODEL_PREDICTIONS,\n",
    "    version=1,\n",
    "    description=\"Predictions generate by our production model\",\n",
    "    primary_key= ['pickup_location', 'pickup_hour'],\n",
    "    event_time='pickup_hour',\n",
    ")"
   ]
  },
  {
   "cell_type": "code",
   "execution_count": 8,
   "metadata": {},
   "outputs": [
    {
     "name": "stderr",
     "output_type": "stream",
     "text": [
      "Uploading Dataframe: 100.00% |██████████| Rows 95/95 | Elapsed Time: 00:01 | Remaining Time: 00:00\n"
     ]
    },
    {
     "name": "stdout",
     "output_type": "stream",
     "text": [
      "Launching job: model_predictions_feature_group_1_offline_fg_materialization\n",
      "Job started successfully, you can follow the progress at \n",
      "https://c.app.hopsworks.ai:443/p/1220769/jobs/named/model_predictions_feature_group_1_offline_fg_materialization/executions\n"
     ]
    },
    {
     "data": {
      "text/plain": [
       "(Job('model_predictions_feature_group_1_offline_fg_materialization', 'SPARK'),\n",
       " None)"
      ]
     },
     "execution_count": 8,
     "metadata": {},
     "output_type": "execute_result"
    }
   ],
   "source": [
    "feature_group.insert(predictions, write_options={'wait_for_job': False})"
   ]
  }
 ],
 "metadata": {
  "kernelspec": {
   "display_name": ".venv",
   "language": "python",
   "name": "python3"
  },
  "language_info": {
   "codemirror_mode": {
    "name": "ipython",
    "version": 3
   },
   "file_extension": ".py",
   "mimetype": "text/x-python",
   "name": "python",
   "nbconvert_exporter": "python",
   "pygments_lexer": "ipython3",
   "version": "3.12.9"
  }
 },
 "nbformat": 4,
 "nbformat_minor": 2
}
