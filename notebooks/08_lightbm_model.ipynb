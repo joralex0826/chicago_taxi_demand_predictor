{
 "cells": [
  {
   "cell_type": "code",
   "execution_count": 20,
   "metadata": {},
   "outputs": [
    {
     "data": {
      "text/html": [
       "<div>\n",
       "<style scoped>\n",
       "    .dataframe tbody tr th:only-of-type {\n",
       "        vertical-align: middle;\n",
       "    }\n",
       "\n",
       "    .dataframe tbody tr th {\n",
       "        vertical-align: top;\n",
       "    }\n",
       "\n",
       "    .dataframe thead th {\n",
       "        text-align: right;\n",
       "    }\n",
       "</style>\n",
       "<table border=\"1\" class=\"dataframe\">\n",
       "  <thead>\n",
       "    <tr style=\"text-align: right;\">\n",
       "      <th></th>\n",
       "      <th>rides_previous_672_hour</th>\n",
       "      <th>rides_previous_671_hour</th>\n",
       "      <th>rides_previous_670_hour</th>\n",
       "      <th>rides_previous_669_hour</th>\n",
       "      <th>rides_previous_668_hour</th>\n",
       "      <th>rides_previous_667_hour</th>\n",
       "      <th>rides_previous_666_hour</th>\n",
       "      <th>rides_previous_665_hour</th>\n",
       "      <th>rides_previous_664_hour</th>\n",
       "      <th>rides_previous_663_hour</th>\n",
       "      <th>...</th>\n",
       "      <th>rides_previous_5_hour</th>\n",
       "      <th>rides_previous_4_hour</th>\n",
       "      <th>rides_previous_3_hour</th>\n",
       "      <th>rides_previous_2_hour</th>\n",
       "      <th>rides_previous_1_hour</th>\n",
       "      <th>pickup_hour</th>\n",
       "      <th>pickup_location</th>\n",
       "      <th>pickup_longitude</th>\n",
       "      <th>pickup_latitude</th>\n",
       "      <th>target_rides_next_hour</th>\n",
       "    </tr>\n",
       "  </thead>\n",
       "  <tbody>\n",
       "    <tr>\n",
       "      <th>0</th>\n",
       "      <td>2.0</td>\n",
       "      <td>0.0</td>\n",
       "      <td>0.0</td>\n",
       "      <td>3.0</td>\n",
       "      <td>0.0</td>\n",
       "      <td>0.0</td>\n",
       "      <td>2.0</td>\n",
       "      <td>1.0</td>\n",
       "      <td>3.0</td>\n",
       "      <td>1.0</td>\n",
       "      <td>...</td>\n",
       "      <td>0.0</td>\n",
       "      <td>3.0</td>\n",
       "      <td>1.0</td>\n",
       "      <td>1.0</td>\n",
       "      <td>0.0</td>\n",
       "      <td>2024-01-29</td>\n",
       "      <td>Albany Park</td>\n",
       "      <td>-87.721559</td>\n",
       "      <td>41.968069</td>\n",
       "      <td>0.0</td>\n",
       "    </tr>\n",
       "    <tr>\n",
       "      <th>1</th>\n",
       "      <td>0.0</td>\n",
       "      <td>0.0</td>\n",
       "      <td>0.0</td>\n",
       "      <td>0.0</td>\n",
       "      <td>0.0</td>\n",
       "      <td>0.0</td>\n",
       "      <td>2.0</td>\n",
       "      <td>0.0</td>\n",
       "      <td>0.0</td>\n",
       "      <td>1.0</td>\n",
       "      <td>...</td>\n",
       "      <td>1.0</td>\n",
       "      <td>3.0</td>\n",
       "      <td>1.0</td>\n",
       "      <td>2.0</td>\n",
       "      <td>1.0</td>\n",
       "      <td>2024-01-30</td>\n",
       "      <td>Albany Park</td>\n",
       "      <td>-87.721559</td>\n",
       "      <td>41.968069</td>\n",
       "      <td>0.0</td>\n",
       "    </tr>\n",
       "    <tr>\n",
       "      <th>2</th>\n",
       "      <td>0.0</td>\n",
       "      <td>0.0</td>\n",
       "      <td>1.0</td>\n",
       "      <td>0.0</td>\n",
       "      <td>1.0</td>\n",
       "      <td>0.0</td>\n",
       "      <td>4.0</td>\n",
       "      <td>0.0</td>\n",
       "      <td>1.0</td>\n",
       "      <td>0.0</td>\n",
       "      <td>...</td>\n",
       "      <td>3.0</td>\n",
       "      <td>0.0</td>\n",
       "      <td>2.0</td>\n",
       "      <td>0.0</td>\n",
       "      <td>0.0</td>\n",
       "      <td>2024-01-31</td>\n",
       "      <td>Albany Park</td>\n",
       "      <td>-87.721559</td>\n",
       "      <td>41.968069</td>\n",
       "      <td>0.0</td>\n",
       "    </tr>\n",
       "    <tr>\n",
       "      <th>3</th>\n",
       "      <td>1.0</td>\n",
       "      <td>0.0</td>\n",
       "      <td>0.0</td>\n",
       "      <td>0.0</td>\n",
       "      <td>1.0</td>\n",
       "      <td>0.0</td>\n",
       "      <td>0.0</td>\n",
       "      <td>1.0</td>\n",
       "      <td>3.0</td>\n",
       "      <td>1.0</td>\n",
       "      <td>...</td>\n",
       "      <td>0.0</td>\n",
       "      <td>2.0</td>\n",
       "      <td>1.0</td>\n",
       "      <td>0.0</td>\n",
       "      <td>0.0</td>\n",
       "      <td>2024-02-01</td>\n",
       "      <td>Albany Park</td>\n",
       "      <td>-87.721559</td>\n",
       "      <td>41.968069</td>\n",
       "      <td>0.0</td>\n",
       "    </tr>\n",
       "    <tr>\n",
       "      <th>4</th>\n",
       "      <td>0.0</td>\n",
       "      <td>1.0</td>\n",
       "      <td>1.0</td>\n",
       "      <td>0.0</td>\n",
       "      <td>1.0</td>\n",
       "      <td>1.0</td>\n",
       "      <td>1.0</td>\n",
       "      <td>2.0</td>\n",
       "      <td>2.0</td>\n",
       "      <td>0.0</td>\n",
       "      <td>...</td>\n",
       "      <td>0.0</td>\n",
       "      <td>2.0</td>\n",
       "      <td>1.0</td>\n",
       "      <td>4.0</td>\n",
       "      <td>1.0</td>\n",
       "      <td>2024-02-02</td>\n",
       "      <td>Albany Park</td>\n",
       "      <td>-87.721559</td>\n",
       "      <td>41.968069</td>\n",
       "      <td>1.0</td>\n",
       "    </tr>\n",
       "    <tr>\n",
       "      <th>...</th>\n",
       "      <td>...</td>\n",
       "      <td>...</td>\n",
       "      <td>...</td>\n",
       "      <td>...</td>\n",
       "      <td>...</td>\n",
       "      <td>...</td>\n",
       "      <td>...</td>\n",
       "      <td>...</td>\n",
       "      <td>...</td>\n",
       "      <td>...</td>\n",
       "      <td>...</td>\n",
       "      <td>...</td>\n",
       "      <td>...</td>\n",
       "      <td>...</td>\n",
       "      <td>...</td>\n",
       "      <td>...</td>\n",
       "      <td>...</td>\n",
       "      <td>...</td>\n",
       "      <td>...</td>\n",
       "      <td>...</td>\n",
       "      <td>...</td>\n",
       "    </tr>\n",
       "    <tr>\n",
       "      <th>35050</th>\n",
       "      <td>0.0</td>\n",
       "      <td>0.0</td>\n",
       "      <td>0.0</td>\n",
       "      <td>0.0</td>\n",
       "      <td>0.0</td>\n",
       "      <td>0.0</td>\n",
       "      <td>0.0</td>\n",
       "      <td>0.0</td>\n",
       "      <td>0.0</td>\n",
       "      <td>0.0</td>\n",
       "      <td>...</td>\n",
       "      <td>0.0</td>\n",
       "      <td>0.0</td>\n",
       "      <td>0.0</td>\n",
       "      <td>0.0</td>\n",
       "      <td>0.0</td>\n",
       "      <td>2025-01-27</td>\n",
       "      <td>Andersonville</td>\n",
       "      <td>-87.671446</td>\n",
       "      <td>41.979796</td>\n",
       "      <td>0.0</td>\n",
       "    </tr>\n",
       "    <tr>\n",
       "      <th>35051</th>\n",
       "      <td>0.0</td>\n",
       "      <td>0.0</td>\n",
       "      <td>0.0</td>\n",
       "      <td>0.0</td>\n",
       "      <td>0.0</td>\n",
       "      <td>0.0</td>\n",
       "      <td>0.0</td>\n",
       "      <td>0.0</td>\n",
       "      <td>0.0</td>\n",
       "      <td>0.0</td>\n",
       "      <td>...</td>\n",
       "      <td>0.0</td>\n",
       "      <td>0.0</td>\n",
       "      <td>0.0</td>\n",
       "      <td>0.0</td>\n",
       "      <td>0.0</td>\n",
       "      <td>2025-01-28</td>\n",
       "      <td>Andersonville</td>\n",
       "      <td>-87.671446</td>\n",
       "      <td>41.979796</td>\n",
       "      <td>0.0</td>\n",
       "    </tr>\n",
       "    <tr>\n",
       "      <th>35052</th>\n",
       "      <td>0.0</td>\n",
       "      <td>0.0</td>\n",
       "      <td>0.0</td>\n",
       "      <td>0.0</td>\n",
       "      <td>0.0</td>\n",
       "      <td>0.0</td>\n",
       "      <td>0.0</td>\n",
       "      <td>0.0</td>\n",
       "      <td>0.0</td>\n",
       "      <td>0.0</td>\n",
       "      <td>...</td>\n",
       "      <td>0.0</td>\n",
       "      <td>0.0</td>\n",
       "      <td>0.0</td>\n",
       "      <td>0.0</td>\n",
       "      <td>0.0</td>\n",
       "      <td>2025-01-29</td>\n",
       "      <td>Andersonville</td>\n",
       "      <td>-87.671446</td>\n",
       "      <td>41.979796</td>\n",
       "      <td>0.0</td>\n",
       "    </tr>\n",
       "    <tr>\n",
       "      <th>35053</th>\n",
       "      <td>0.0</td>\n",
       "      <td>0.0</td>\n",
       "      <td>0.0</td>\n",
       "      <td>0.0</td>\n",
       "      <td>0.0</td>\n",
       "      <td>0.0</td>\n",
       "      <td>0.0</td>\n",
       "      <td>0.0</td>\n",
       "      <td>0.0</td>\n",
       "      <td>0.0</td>\n",
       "      <td>...</td>\n",
       "      <td>0.0</td>\n",
       "      <td>0.0</td>\n",
       "      <td>0.0</td>\n",
       "      <td>0.0</td>\n",
       "      <td>0.0</td>\n",
       "      <td>2025-01-30</td>\n",
       "      <td>Andersonville</td>\n",
       "      <td>-87.671446</td>\n",
       "      <td>41.979796</td>\n",
       "      <td>0.0</td>\n",
       "    </tr>\n",
       "    <tr>\n",
       "      <th>35054</th>\n",
       "      <td>0.0</td>\n",
       "      <td>0.0</td>\n",
       "      <td>0.0</td>\n",
       "      <td>0.0</td>\n",
       "      <td>0.0</td>\n",
       "      <td>0.0</td>\n",
       "      <td>0.0</td>\n",
       "      <td>0.0</td>\n",
       "      <td>0.0</td>\n",
       "      <td>0.0</td>\n",
       "      <td>...</td>\n",
       "      <td>0.0</td>\n",
       "      <td>0.0</td>\n",
       "      <td>0.0</td>\n",
       "      <td>0.0</td>\n",
       "      <td>0.0</td>\n",
       "      <td>2025-01-31</td>\n",
       "      <td>Andersonville</td>\n",
       "      <td>-87.671446</td>\n",
       "      <td>41.979796</td>\n",
       "      <td>0.0</td>\n",
       "    </tr>\n",
       "  </tbody>\n",
       "</table>\n",
       "<p>35055 rows × 677 columns</p>\n",
       "</div>"
      ],
      "text/plain": [
       "       rides_previous_672_hour  rides_previous_671_hour  \\\n",
       "0                          2.0                      0.0   \n",
       "1                          0.0                      0.0   \n",
       "2                          0.0                      0.0   \n",
       "3                          1.0                      0.0   \n",
       "4                          0.0                      1.0   \n",
       "...                        ...                      ...   \n",
       "35050                      0.0                      0.0   \n",
       "35051                      0.0                      0.0   \n",
       "35052                      0.0                      0.0   \n",
       "35053                      0.0                      0.0   \n",
       "35054                      0.0                      0.0   \n",
       "\n",
       "       rides_previous_670_hour  rides_previous_669_hour  \\\n",
       "0                          0.0                      3.0   \n",
       "1                          0.0                      0.0   \n",
       "2                          1.0                      0.0   \n",
       "3                          0.0                      0.0   \n",
       "4                          1.0                      0.0   \n",
       "...                        ...                      ...   \n",
       "35050                      0.0                      0.0   \n",
       "35051                      0.0                      0.0   \n",
       "35052                      0.0                      0.0   \n",
       "35053                      0.0                      0.0   \n",
       "35054                      0.0                      0.0   \n",
       "\n",
       "       rides_previous_668_hour  rides_previous_667_hour  \\\n",
       "0                          0.0                      0.0   \n",
       "1                          0.0                      0.0   \n",
       "2                          1.0                      0.0   \n",
       "3                          1.0                      0.0   \n",
       "4                          1.0                      1.0   \n",
       "...                        ...                      ...   \n",
       "35050                      0.0                      0.0   \n",
       "35051                      0.0                      0.0   \n",
       "35052                      0.0                      0.0   \n",
       "35053                      0.0                      0.0   \n",
       "35054                      0.0                      0.0   \n",
       "\n",
       "       rides_previous_666_hour  rides_previous_665_hour  \\\n",
       "0                          2.0                      1.0   \n",
       "1                          2.0                      0.0   \n",
       "2                          4.0                      0.0   \n",
       "3                          0.0                      1.0   \n",
       "4                          1.0                      2.0   \n",
       "...                        ...                      ...   \n",
       "35050                      0.0                      0.0   \n",
       "35051                      0.0                      0.0   \n",
       "35052                      0.0                      0.0   \n",
       "35053                      0.0                      0.0   \n",
       "35054                      0.0                      0.0   \n",
       "\n",
       "       rides_previous_664_hour  rides_previous_663_hour  ...  \\\n",
       "0                          3.0                      1.0  ...   \n",
       "1                          0.0                      1.0  ...   \n",
       "2                          1.0                      0.0  ...   \n",
       "3                          3.0                      1.0  ...   \n",
       "4                          2.0                      0.0  ...   \n",
       "...                        ...                      ...  ...   \n",
       "35050                      0.0                      0.0  ...   \n",
       "35051                      0.0                      0.0  ...   \n",
       "35052                      0.0                      0.0  ...   \n",
       "35053                      0.0                      0.0  ...   \n",
       "35054                      0.0                      0.0  ...   \n",
       "\n",
       "       rides_previous_5_hour  rides_previous_4_hour  rides_previous_3_hour  \\\n",
       "0                        0.0                    3.0                    1.0   \n",
       "1                        1.0                    3.0                    1.0   \n",
       "2                        3.0                    0.0                    2.0   \n",
       "3                        0.0                    2.0                    1.0   \n",
       "4                        0.0                    2.0                    1.0   \n",
       "...                      ...                    ...                    ...   \n",
       "35050                    0.0                    0.0                    0.0   \n",
       "35051                    0.0                    0.0                    0.0   \n",
       "35052                    0.0                    0.0                    0.0   \n",
       "35053                    0.0                    0.0                    0.0   \n",
       "35054                    0.0                    0.0                    0.0   \n",
       "\n",
       "       rides_previous_2_hour  rides_previous_1_hour  pickup_hour  \\\n",
       "0                        1.0                    0.0   2024-01-29   \n",
       "1                        2.0                    1.0   2024-01-30   \n",
       "2                        0.0                    0.0   2024-01-31   \n",
       "3                        0.0                    0.0   2024-02-01   \n",
       "4                        4.0                    1.0   2024-02-02   \n",
       "...                      ...                    ...          ...   \n",
       "35050                    0.0                    0.0   2025-01-27   \n",
       "35051                    0.0                    0.0   2025-01-28   \n",
       "35052                    0.0                    0.0   2025-01-29   \n",
       "35053                    0.0                    0.0   2025-01-30   \n",
       "35054                    0.0                    0.0   2025-01-31   \n",
       "\n",
       "       pickup_location  pickup_longitude  pickup_latitude  \\\n",
       "0          Albany Park        -87.721559        41.968069   \n",
       "1          Albany Park        -87.721559        41.968069   \n",
       "2          Albany Park        -87.721559        41.968069   \n",
       "3          Albany Park        -87.721559        41.968069   \n",
       "4          Albany Park        -87.721559        41.968069   \n",
       "...                ...               ...              ...   \n",
       "35050    Andersonville        -87.671446        41.979796   \n",
       "35051    Andersonville        -87.671446        41.979796   \n",
       "35052    Andersonville        -87.671446        41.979796   \n",
       "35053    Andersonville        -87.671446        41.979796   \n",
       "35054    Andersonville        -87.671446        41.979796   \n",
       "\n",
       "       target_rides_next_hour  \n",
       "0                         0.0  \n",
       "1                         0.0  \n",
       "2                         0.0  \n",
       "3                         0.0  \n",
       "4                         1.0  \n",
       "...                       ...  \n",
       "35050                     0.0  \n",
       "35051                     0.0  \n",
       "35052                     0.0  \n",
       "35053                     0.0  \n",
       "35054                     0.0  \n",
       "\n",
       "[35055 rows x 677 columns]"
      ]
     },
     "execution_count": 20,
     "metadata": {},
     "output_type": "execute_result"
    }
   ],
   "source": [
    "import pandas as pd\n",
    "from paths import TRANSFORMED_DATA_DIR\n",
    "\n",
    "df = pd.read_parquet(TRANSFORMED_DATA_DIR / 'tabular_data.parquet')\n",
    "df"
   ]
  },
  {
   "cell_type": "code",
   "execution_count": 21,
   "metadata": {},
   "outputs": [
    {
     "name": "stdout",
     "output_type": "stream",
     "text": [
      "X_train.shape=(26315, 676)\n",
      "y_train.shape=(26315,)\n",
      "X_test.shape=(8740, 676)\n",
      "y_test.shape=(8740,)\n"
     ]
    }
   ],
   "source": [
    "from datetime import datetime\n",
    "from data_split import train_test_split\n",
    "\n",
    "X_train, y_train, X_test, y_test = train_test_split(\n",
    "    df,\n",
    "    cutoff_date=datetime(2024, 11, 1, 0, 0, 0),\n",
    "    target_column_name='target_rides_next_hour'\n",
    ")\n",
    "\n",
    "print(f'{X_train.shape=}')\n",
    "print(f'{y_train.shape=}')\n",
    "print(f'{X_test.shape=}')\n",
    "print(f'{y_test.shape=}')"
   ]
  },
  {
   "cell_type": "code",
   "execution_count": 22,
   "metadata": {},
   "outputs": [],
   "source": [
    "import lightgbm as lgb"
   ]
  },
  {
   "cell_type": "code",
   "execution_count": 23,
   "metadata": {},
   "outputs": [],
   "source": [
    "past_rides_columns = [c for c in X_train.columns if c.startswith('rides_')]\n",
    "X_train_only_numeric = X_train[past_rides_columns]"
   ]
  },
  {
   "cell_type": "code",
   "execution_count": 24,
   "metadata": {},
   "outputs": [
    {
     "name": "stdout",
     "output_type": "stream",
     "text": [
      "[LightGBM] [Info] Auto-choosing col-wise multi-threading, the overhead of testing was 0.076327 seconds.\n",
      "You can set `force_col_wise=true` to remove the overhead.\n",
      "[LightGBM] [Info] Total Bins 123842\n",
      "[LightGBM] [Info] Number of data points in the train set: 26315, number of used features: 672\n",
      "[LightGBM] [Info] Start training from score 4.649933\n"
     ]
    },
    {
     "data": {
      "text/html": [
       "<style>#sk-container-id-3 {\n",
       "  /* Definition of color scheme common for light and dark mode */\n",
       "  --sklearn-color-text: #000;\n",
       "  --sklearn-color-text-muted: #666;\n",
       "  --sklearn-color-line: gray;\n",
       "  /* Definition of color scheme for unfitted estimators */\n",
       "  --sklearn-color-unfitted-level-0: #fff5e6;\n",
       "  --sklearn-color-unfitted-level-1: #f6e4d2;\n",
       "  --sklearn-color-unfitted-level-2: #ffe0b3;\n",
       "  --sklearn-color-unfitted-level-3: chocolate;\n",
       "  /* Definition of color scheme for fitted estimators */\n",
       "  --sklearn-color-fitted-level-0: #f0f8ff;\n",
       "  --sklearn-color-fitted-level-1: #d4ebff;\n",
       "  --sklearn-color-fitted-level-2: #b3dbfd;\n",
       "  --sklearn-color-fitted-level-3: cornflowerblue;\n",
       "\n",
       "  /* Specific color for light theme */\n",
       "  --sklearn-color-text-on-default-background: var(--sg-text-color, var(--theme-code-foreground, var(--jp-content-font-color1, black)));\n",
       "  --sklearn-color-background: var(--sg-background-color, var(--theme-background, var(--jp-layout-color0, white)));\n",
       "  --sklearn-color-border-box: var(--sg-text-color, var(--theme-code-foreground, var(--jp-content-font-color1, black)));\n",
       "  --sklearn-color-icon: #696969;\n",
       "\n",
       "  @media (prefers-color-scheme: dark) {\n",
       "    /* Redefinition of color scheme for dark theme */\n",
       "    --sklearn-color-text-on-default-background: var(--sg-text-color, var(--theme-code-foreground, var(--jp-content-font-color1, white)));\n",
       "    --sklearn-color-background: var(--sg-background-color, var(--theme-background, var(--jp-layout-color0, #111)));\n",
       "    --sklearn-color-border-box: var(--sg-text-color, var(--theme-code-foreground, var(--jp-content-font-color1, white)));\n",
       "    --sklearn-color-icon: #878787;\n",
       "  }\n",
       "}\n",
       "\n",
       "#sk-container-id-3 {\n",
       "  color: var(--sklearn-color-text);\n",
       "}\n",
       "\n",
       "#sk-container-id-3 pre {\n",
       "  padding: 0;\n",
       "}\n",
       "\n",
       "#sk-container-id-3 input.sk-hidden--visually {\n",
       "  border: 0;\n",
       "  clip: rect(1px 1px 1px 1px);\n",
       "  clip: rect(1px, 1px, 1px, 1px);\n",
       "  height: 1px;\n",
       "  margin: -1px;\n",
       "  overflow: hidden;\n",
       "  padding: 0;\n",
       "  position: absolute;\n",
       "  width: 1px;\n",
       "}\n",
       "\n",
       "#sk-container-id-3 div.sk-dashed-wrapped {\n",
       "  border: 1px dashed var(--sklearn-color-line);\n",
       "  margin: 0 0.4em 0.5em 0.4em;\n",
       "  box-sizing: border-box;\n",
       "  padding-bottom: 0.4em;\n",
       "  background-color: var(--sklearn-color-background);\n",
       "}\n",
       "\n",
       "#sk-container-id-3 div.sk-container {\n",
       "  /* jupyter's `normalize.less` sets `[hidden] { display: none; }`\n",
       "     but bootstrap.min.css set `[hidden] { display: none !important; }`\n",
       "     so we also need the `!important` here to be able to override the\n",
       "     default hidden behavior on the sphinx rendered scikit-learn.org.\n",
       "     See: https://github.com/scikit-learn/scikit-learn/issues/21755 */\n",
       "  display: inline-block !important;\n",
       "  position: relative;\n",
       "}\n",
       "\n",
       "#sk-container-id-3 div.sk-text-repr-fallback {\n",
       "  display: none;\n",
       "}\n",
       "\n",
       "div.sk-parallel-item,\n",
       "div.sk-serial,\n",
       "div.sk-item {\n",
       "  /* draw centered vertical line to link estimators */\n",
       "  background-image: linear-gradient(var(--sklearn-color-text-on-default-background), var(--sklearn-color-text-on-default-background));\n",
       "  background-size: 2px 100%;\n",
       "  background-repeat: no-repeat;\n",
       "  background-position: center center;\n",
       "}\n",
       "\n",
       "/* Parallel-specific style estimator block */\n",
       "\n",
       "#sk-container-id-3 div.sk-parallel-item::after {\n",
       "  content: \"\";\n",
       "  width: 100%;\n",
       "  border-bottom: 2px solid var(--sklearn-color-text-on-default-background);\n",
       "  flex-grow: 1;\n",
       "}\n",
       "\n",
       "#sk-container-id-3 div.sk-parallel {\n",
       "  display: flex;\n",
       "  align-items: stretch;\n",
       "  justify-content: center;\n",
       "  background-color: var(--sklearn-color-background);\n",
       "  position: relative;\n",
       "}\n",
       "\n",
       "#sk-container-id-3 div.sk-parallel-item {\n",
       "  display: flex;\n",
       "  flex-direction: column;\n",
       "}\n",
       "\n",
       "#sk-container-id-3 div.sk-parallel-item:first-child::after {\n",
       "  align-self: flex-end;\n",
       "  width: 50%;\n",
       "}\n",
       "\n",
       "#sk-container-id-3 div.sk-parallel-item:last-child::after {\n",
       "  align-self: flex-start;\n",
       "  width: 50%;\n",
       "}\n",
       "\n",
       "#sk-container-id-3 div.sk-parallel-item:only-child::after {\n",
       "  width: 0;\n",
       "}\n",
       "\n",
       "/* Serial-specific style estimator block */\n",
       "\n",
       "#sk-container-id-3 div.sk-serial {\n",
       "  display: flex;\n",
       "  flex-direction: column;\n",
       "  align-items: center;\n",
       "  background-color: var(--sklearn-color-background);\n",
       "  padding-right: 1em;\n",
       "  padding-left: 1em;\n",
       "}\n",
       "\n",
       "\n",
       "/* Toggleable style: style used for estimator/Pipeline/ColumnTransformer box that is\n",
       "clickable and can be expanded/collapsed.\n",
       "- Pipeline and ColumnTransformer use this feature and define the default style\n",
       "- Estimators will overwrite some part of the style using the `sk-estimator` class\n",
       "*/\n",
       "\n",
       "/* Pipeline and ColumnTransformer style (default) */\n",
       "\n",
       "#sk-container-id-3 div.sk-toggleable {\n",
       "  /* Default theme specific background. It is overwritten whether we have a\n",
       "  specific estimator or a Pipeline/ColumnTransformer */\n",
       "  background-color: var(--sklearn-color-background);\n",
       "}\n",
       "\n",
       "/* Toggleable label */\n",
       "#sk-container-id-3 label.sk-toggleable__label {\n",
       "  cursor: pointer;\n",
       "  display: flex;\n",
       "  width: 100%;\n",
       "  margin-bottom: 0;\n",
       "  padding: 0.5em;\n",
       "  box-sizing: border-box;\n",
       "  text-align: center;\n",
       "  align-items: start;\n",
       "  justify-content: space-between;\n",
       "  gap: 0.5em;\n",
       "}\n",
       "\n",
       "#sk-container-id-3 label.sk-toggleable__label .caption {\n",
       "  font-size: 0.6rem;\n",
       "  font-weight: lighter;\n",
       "  color: var(--sklearn-color-text-muted);\n",
       "}\n",
       "\n",
       "#sk-container-id-3 label.sk-toggleable__label-arrow:before {\n",
       "  /* Arrow on the left of the label */\n",
       "  content: \"▸\";\n",
       "  float: left;\n",
       "  margin-right: 0.25em;\n",
       "  color: var(--sklearn-color-icon);\n",
       "}\n",
       "\n",
       "#sk-container-id-3 label.sk-toggleable__label-arrow:hover:before {\n",
       "  color: var(--sklearn-color-text);\n",
       "}\n",
       "\n",
       "/* Toggleable content - dropdown */\n",
       "\n",
       "#sk-container-id-3 div.sk-toggleable__content {\n",
       "  max-height: 0;\n",
       "  max-width: 0;\n",
       "  overflow: hidden;\n",
       "  text-align: left;\n",
       "  /* unfitted */\n",
       "  background-color: var(--sklearn-color-unfitted-level-0);\n",
       "}\n",
       "\n",
       "#sk-container-id-3 div.sk-toggleable__content.fitted {\n",
       "  /* fitted */\n",
       "  background-color: var(--sklearn-color-fitted-level-0);\n",
       "}\n",
       "\n",
       "#sk-container-id-3 div.sk-toggleable__content pre {\n",
       "  margin: 0.2em;\n",
       "  border-radius: 0.25em;\n",
       "  color: var(--sklearn-color-text);\n",
       "  /* unfitted */\n",
       "  background-color: var(--sklearn-color-unfitted-level-0);\n",
       "}\n",
       "\n",
       "#sk-container-id-3 div.sk-toggleable__content.fitted pre {\n",
       "  /* unfitted */\n",
       "  background-color: var(--sklearn-color-fitted-level-0);\n",
       "}\n",
       "\n",
       "#sk-container-id-3 input.sk-toggleable__control:checked~div.sk-toggleable__content {\n",
       "  /* Expand drop-down */\n",
       "  max-height: 200px;\n",
       "  max-width: 100%;\n",
       "  overflow: auto;\n",
       "}\n",
       "\n",
       "#sk-container-id-3 input.sk-toggleable__control:checked~label.sk-toggleable__label-arrow:before {\n",
       "  content: \"▾\";\n",
       "}\n",
       "\n",
       "/* Pipeline/ColumnTransformer-specific style */\n",
       "\n",
       "#sk-container-id-3 div.sk-label input.sk-toggleable__control:checked~label.sk-toggleable__label {\n",
       "  color: var(--sklearn-color-text);\n",
       "  background-color: var(--sklearn-color-unfitted-level-2);\n",
       "}\n",
       "\n",
       "#sk-container-id-3 div.sk-label.fitted input.sk-toggleable__control:checked~label.sk-toggleable__label {\n",
       "  background-color: var(--sklearn-color-fitted-level-2);\n",
       "}\n",
       "\n",
       "/* Estimator-specific style */\n",
       "\n",
       "/* Colorize estimator box */\n",
       "#sk-container-id-3 div.sk-estimator input.sk-toggleable__control:checked~label.sk-toggleable__label {\n",
       "  /* unfitted */\n",
       "  background-color: var(--sklearn-color-unfitted-level-2);\n",
       "}\n",
       "\n",
       "#sk-container-id-3 div.sk-estimator.fitted input.sk-toggleable__control:checked~label.sk-toggleable__label {\n",
       "  /* fitted */\n",
       "  background-color: var(--sklearn-color-fitted-level-2);\n",
       "}\n",
       "\n",
       "#sk-container-id-3 div.sk-label label.sk-toggleable__label,\n",
       "#sk-container-id-3 div.sk-label label {\n",
       "  /* The background is the default theme color */\n",
       "  color: var(--sklearn-color-text-on-default-background);\n",
       "}\n",
       "\n",
       "/* On hover, darken the color of the background */\n",
       "#sk-container-id-3 div.sk-label:hover label.sk-toggleable__label {\n",
       "  color: var(--sklearn-color-text);\n",
       "  background-color: var(--sklearn-color-unfitted-level-2);\n",
       "}\n",
       "\n",
       "/* Label box, darken color on hover, fitted */\n",
       "#sk-container-id-3 div.sk-label.fitted:hover label.sk-toggleable__label.fitted {\n",
       "  color: var(--sklearn-color-text);\n",
       "  background-color: var(--sklearn-color-fitted-level-2);\n",
       "}\n",
       "\n",
       "/* Estimator label */\n",
       "\n",
       "#sk-container-id-3 div.sk-label label {\n",
       "  font-family: monospace;\n",
       "  font-weight: bold;\n",
       "  display: inline-block;\n",
       "  line-height: 1.2em;\n",
       "}\n",
       "\n",
       "#sk-container-id-3 div.sk-label-container {\n",
       "  text-align: center;\n",
       "}\n",
       "\n",
       "/* Estimator-specific */\n",
       "#sk-container-id-3 div.sk-estimator {\n",
       "  font-family: monospace;\n",
       "  border: 1px dotted var(--sklearn-color-border-box);\n",
       "  border-radius: 0.25em;\n",
       "  box-sizing: border-box;\n",
       "  margin-bottom: 0.5em;\n",
       "  /* unfitted */\n",
       "  background-color: var(--sklearn-color-unfitted-level-0);\n",
       "}\n",
       "\n",
       "#sk-container-id-3 div.sk-estimator.fitted {\n",
       "  /* fitted */\n",
       "  background-color: var(--sklearn-color-fitted-level-0);\n",
       "}\n",
       "\n",
       "/* on hover */\n",
       "#sk-container-id-3 div.sk-estimator:hover {\n",
       "  /* unfitted */\n",
       "  background-color: var(--sklearn-color-unfitted-level-2);\n",
       "}\n",
       "\n",
       "#sk-container-id-3 div.sk-estimator.fitted:hover {\n",
       "  /* fitted */\n",
       "  background-color: var(--sklearn-color-fitted-level-2);\n",
       "}\n",
       "\n",
       "/* Specification for estimator info (e.g. \"i\" and \"?\") */\n",
       "\n",
       "/* Common style for \"i\" and \"?\" */\n",
       "\n",
       ".sk-estimator-doc-link,\n",
       "a:link.sk-estimator-doc-link,\n",
       "a:visited.sk-estimator-doc-link {\n",
       "  float: right;\n",
       "  font-size: smaller;\n",
       "  line-height: 1em;\n",
       "  font-family: monospace;\n",
       "  background-color: var(--sklearn-color-background);\n",
       "  border-radius: 1em;\n",
       "  height: 1em;\n",
       "  width: 1em;\n",
       "  text-decoration: none !important;\n",
       "  margin-left: 0.5em;\n",
       "  text-align: center;\n",
       "  /* unfitted */\n",
       "  border: var(--sklearn-color-unfitted-level-1) 1pt solid;\n",
       "  color: var(--sklearn-color-unfitted-level-1);\n",
       "}\n",
       "\n",
       ".sk-estimator-doc-link.fitted,\n",
       "a:link.sk-estimator-doc-link.fitted,\n",
       "a:visited.sk-estimator-doc-link.fitted {\n",
       "  /* fitted */\n",
       "  border: var(--sklearn-color-fitted-level-1) 1pt solid;\n",
       "  color: var(--sklearn-color-fitted-level-1);\n",
       "}\n",
       "\n",
       "/* On hover */\n",
       "div.sk-estimator:hover .sk-estimator-doc-link:hover,\n",
       ".sk-estimator-doc-link:hover,\n",
       "div.sk-label-container:hover .sk-estimator-doc-link:hover,\n",
       ".sk-estimator-doc-link:hover {\n",
       "  /* unfitted */\n",
       "  background-color: var(--sklearn-color-unfitted-level-3);\n",
       "  color: var(--sklearn-color-background);\n",
       "  text-decoration: none;\n",
       "}\n",
       "\n",
       "div.sk-estimator.fitted:hover .sk-estimator-doc-link.fitted:hover,\n",
       ".sk-estimator-doc-link.fitted:hover,\n",
       "div.sk-label-container:hover .sk-estimator-doc-link.fitted:hover,\n",
       ".sk-estimator-doc-link.fitted:hover {\n",
       "  /* fitted */\n",
       "  background-color: var(--sklearn-color-fitted-level-3);\n",
       "  color: var(--sklearn-color-background);\n",
       "  text-decoration: none;\n",
       "}\n",
       "\n",
       "/* Span, style for the box shown on hovering the info icon */\n",
       ".sk-estimator-doc-link span {\n",
       "  display: none;\n",
       "  z-index: 9999;\n",
       "  position: relative;\n",
       "  font-weight: normal;\n",
       "  right: .2ex;\n",
       "  padding: .5ex;\n",
       "  margin: .5ex;\n",
       "  width: min-content;\n",
       "  min-width: 20ex;\n",
       "  max-width: 50ex;\n",
       "  color: var(--sklearn-color-text);\n",
       "  box-shadow: 2pt 2pt 4pt #999;\n",
       "  /* unfitted */\n",
       "  background: var(--sklearn-color-unfitted-level-0);\n",
       "  border: .5pt solid var(--sklearn-color-unfitted-level-3);\n",
       "}\n",
       "\n",
       ".sk-estimator-doc-link.fitted span {\n",
       "  /* fitted */\n",
       "  background: var(--sklearn-color-fitted-level-0);\n",
       "  border: var(--sklearn-color-fitted-level-3);\n",
       "}\n",
       "\n",
       ".sk-estimator-doc-link:hover span {\n",
       "  display: block;\n",
       "}\n",
       "\n",
       "/* \"?\"-specific style due to the `<a>` HTML tag */\n",
       "\n",
       "#sk-container-id-3 a.estimator_doc_link {\n",
       "  float: right;\n",
       "  font-size: 1rem;\n",
       "  line-height: 1em;\n",
       "  font-family: monospace;\n",
       "  background-color: var(--sklearn-color-background);\n",
       "  border-radius: 1rem;\n",
       "  height: 1rem;\n",
       "  width: 1rem;\n",
       "  text-decoration: none;\n",
       "  /* unfitted */\n",
       "  color: var(--sklearn-color-unfitted-level-1);\n",
       "  border: var(--sklearn-color-unfitted-level-1) 1pt solid;\n",
       "}\n",
       "\n",
       "#sk-container-id-3 a.estimator_doc_link.fitted {\n",
       "  /* fitted */\n",
       "  border: var(--sklearn-color-fitted-level-1) 1pt solid;\n",
       "  color: var(--sklearn-color-fitted-level-1);\n",
       "}\n",
       "\n",
       "/* On hover */\n",
       "#sk-container-id-3 a.estimator_doc_link:hover {\n",
       "  /* unfitted */\n",
       "  background-color: var(--sklearn-color-unfitted-level-3);\n",
       "  color: var(--sklearn-color-background);\n",
       "  text-decoration: none;\n",
       "}\n",
       "\n",
       "#sk-container-id-3 a.estimator_doc_link.fitted:hover {\n",
       "  /* fitted */\n",
       "  background-color: var(--sklearn-color-fitted-level-3);\n",
       "}\n",
       "</style><div id=\"sk-container-id-3\" class=\"sk-top-container\"><div class=\"sk-text-repr-fallback\"><pre>LGBMRegressor()</pre><b>In a Jupyter environment, please rerun this cell to show the HTML representation or trust the notebook. <br />On GitHub, the HTML representation is unable to render, please try loading this page with nbviewer.org.</b></div><div class=\"sk-container\" hidden><div class=\"sk-item\"><div class=\"sk-estimator fitted sk-toggleable\"><input class=\"sk-toggleable__control sk-hidden--visually\" id=\"sk-estimator-id-3\" type=\"checkbox\" checked><label for=\"sk-estimator-id-3\" class=\"sk-toggleable__label fitted sk-toggleable__label-arrow\"><div><div>LGBMRegressor</div></div><div><span class=\"sk-estimator-doc-link fitted\">i<span>Fitted</span></span></div></label><div class=\"sk-toggleable__content fitted\"><pre>LGBMRegressor()</pre></div> </div></div></div></div>"
      ],
      "text/plain": [
       "LGBMRegressor()"
      ]
     },
     "execution_count": 24,
     "metadata": {},
     "output_type": "execute_result"
    }
   ],
   "source": [
    "model = lgb.LGBMRegressor()\n",
    "model.fit(X_train_only_numeric, y_train)"
   ]
  },
  {
   "cell_type": "code",
   "execution_count": 25,
   "metadata": {},
   "outputs": [
    {
     "name": "stdout",
     "output_type": "stream",
     "text": [
      "test_mae=1.2607\n"
     ]
    }
   ],
   "source": [
    "X_test_only_numeric = X_test[past_rides_columns]\n",
    "predictions = model.predict(X_test_only_numeric)\n",
    "\n",
    "from sklearn.metrics import mean_absolute_error\n",
    "test_mae = mean_absolute_error(y_test, predictions)\n",
    "print(f'{test_mae=:.4f}')"
   ]
  },
  {
   "cell_type": "code",
   "execution_count": 26,
   "metadata": {},
   "outputs": [
    {
     "data": {
      "application/vnd.plotly.v1+json": {
       "config": {
        "plotlyServerURL": "https://plot.ly"
       },
       "data": [
        {
         "hovertemplate": "x=%{x}<br>y=%{y}<extra></extra>",
         "legendgroup": "",
         "line": {
          "color": "#636efa",
          "dash": "solid"
         },
         "marker": {
          "symbol": "circle"
         },
         "mode": "lines+markers",
         "name": "",
         "orientation": "v",
         "showlegend": false,
         "type": "scatter",
         "x": [
          "2024-10-04T00:00:00.000000000",
          "2024-10-04T01:00:00.000000000",
          "2024-10-04T02:00:00.000000000",
          "2024-10-04T03:00:00.000000000",
          "2024-10-04T04:00:00.000000000",
          "2024-10-04T05:00:00.000000000",
          "2024-10-04T06:00:00.000000000",
          "2024-10-04T07:00:00.000000000",
          "2024-10-04T08:00:00.000000000",
          "2024-10-04T09:00:00.000000000",
          "2024-10-04T10:00:00.000000000",
          "2024-10-04T11:00:00.000000000",
          "2024-10-04T12:00:00.000000000",
          "2024-10-04T13:00:00.000000000",
          "2024-10-04T14:00:00.000000000",
          "2024-10-04T15:00:00.000000000",
          "2024-10-04T16:00:00.000000000",
          "2024-10-04T17:00:00.000000000",
          "2024-10-04T18:00:00.000000000",
          "2024-10-04T19:00:00.000000000",
          "2024-10-04T20:00:00.000000000",
          "2024-10-04T21:00:00.000000000",
          "2024-10-04T22:00:00.000000000",
          "2024-10-04T23:00:00.000000000",
          "2024-10-05T00:00:00.000000000",
          "2024-10-05T01:00:00.000000000",
          "2024-10-05T02:00:00.000000000",
          "2024-10-05T03:00:00.000000000",
          "2024-10-05T04:00:00.000000000",
          "2024-10-05T05:00:00.000000000",
          "2024-10-05T06:00:00.000000000",
          "2024-10-05T07:00:00.000000000",
          "2024-10-05T08:00:00.000000000",
          "2024-10-05T09:00:00.000000000",
          "2024-10-05T10:00:00.000000000",
          "2024-10-05T11:00:00.000000000",
          "2024-10-05T12:00:00.000000000",
          "2024-10-05T13:00:00.000000000",
          "2024-10-05T14:00:00.000000000",
          "2024-10-05T15:00:00.000000000",
          "2024-10-05T16:00:00.000000000",
          "2024-10-05T17:00:00.000000000",
          "2024-10-05T18:00:00.000000000",
          "2024-10-05T19:00:00.000000000",
          "2024-10-05T20:00:00.000000000",
          "2024-10-05T21:00:00.000000000",
          "2024-10-05T22:00:00.000000000",
          "2024-10-05T23:00:00.000000000",
          "2024-10-06T00:00:00.000000000",
          "2024-10-06T01:00:00.000000000",
          "2024-10-06T02:00:00.000000000",
          "2024-10-06T03:00:00.000000000",
          "2024-10-06T04:00:00.000000000",
          "2024-10-06T05:00:00.000000000",
          "2024-10-06T06:00:00.000000000",
          "2024-10-06T07:00:00.000000000",
          "2024-10-06T08:00:00.000000000",
          "2024-10-06T09:00:00.000000000",
          "2024-10-06T10:00:00.000000000",
          "2024-10-06T11:00:00.000000000",
          "2024-10-06T12:00:00.000000000",
          "2024-10-06T13:00:00.000000000",
          "2024-10-06T14:00:00.000000000",
          "2024-10-06T15:00:00.000000000",
          "2024-10-06T16:00:00.000000000",
          "2024-10-06T17:00:00.000000000",
          "2024-10-06T18:00:00.000000000",
          "2024-10-06T19:00:00.000000000",
          "2024-10-06T20:00:00.000000000",
          "2024-10-06T21:00:00.000000000",
          "2024-10-06T22:00:00.000000000",
          "2024-10-06T23:00:00.000000000",
          "2024-10-07T00:00:00.000000000",
          "2024-10-07T01:00:00.000000000",
          "2024-10-07T02:00:00.000000000",
          "2024-10-07T03:00:00.000000000",
          "2024-10-07T04:00:00.000000000",
          "2024-10-07T05:00:00.000000000",
          "2024-10-07T06:00:00.000000000",
          "2024-10-07T07:00:00.000000000",
          "2024-10-07T08:00:00.000000000",
          "2024-10-07T09:00:00.000000000",
          "2024-10-07T10:00:00.000000000",
          "2024-10-07T11:00:00.000000000",
          "2024-10-07T12:00:00.000000000",
          "2024-10-07T13:00:00.000000000",
          "2024-10-07T14:00:00.000000000",
          "2024-10-07T15:00:00.000000000",
          "2024-10-07T16:00:00.000000000",
          "2024-10-07T17:00:00.000000000",
          "2024-10-07T18:00:00.000000000",
          "2024-10-07T19:00:00.000000000",
          "2024-10-07T20:00:00.000000000",
          "2024-10-07T21:00:00.000000000",
          "2024-10-07T22:00:00.000000000",
          "2024-10-07T23:00:00.000000000",
          "2024-10-08T00:00:00.000000000",
          "2024-10-08T01:00:00.000000000",
          "2024-10-08T02:00:00.000000000",
          "2024-10-08T03:00:00.000000000",
          "2024-10-08T04:00:00.000000000",
          "2024-10-08T05:00:00.000000000",
          "2024-10-08T06:00:00.000000000",
          "2024-10-08T07:00:00.000000000",
          "2024-10-08T08:00:00.000000000",
          "2024-10-08T09:00:00.000000000",
          "2024-10-08T10:00:00.000000000",
          "2024-10-08T11:00:00.000000000",
          "2024-10-08T12:00:00.000000000",
          "2024-10-08T13:00:00.000000000",
          "2024-10-08T14:00:00.000000000",
          "2024-10-08T15:00:00.000000000",
          "2024-10-08T16:00:00.000000000",
          "2024-10-08T17:00:00.000000000",
          "2024-10-08T18:00:00.000000000",
          "2024-10-08T19:00:00.000000000",
          "2024-10-08T20:00:00.000000000",
          "2024-10-08T21:00:00.000000000",
          "2024-10-08T22:00:00.000000000",
          "2024-10-08T23:00:00.000000000",
          "2024-10-09T00:00:00.000000000",
          "2024-10-09T01:00:00.000000000",
          "2024-10-09T02:00:00.000000000",
          "2024-10-09T03:00:00.000000000",
          "2024-10-09T04:00:00.000000000",
          "2024-10-09T05:00:00.000000000",
          "2024-10-09T06:00:00.000000000",
          "2024-10-09T07:00:00.000000000",
          "2024-10-09T08:00:00.000000000",
          "2024-10-09T09:00:00.000000000",
          "2024-10-09T10:00:00.000000000",
          "2024-10-09T11:00:00.000000000",
          "2024-10-09T12:00:00.000000000",
          "2024-10-09T13:00:00.000000000",
          "2024-10-09T14:00:00.000000000",
          "2024-10-09T15:00:00.000000000",
          "2024-10-09T16:00:00.000000000",
          "2024-10-09T17:00:00.000000000",
          "2024-10-09T18:00:00.000000000",
          "2024-10-09T19:00:00.000000000",
          "2024-10-09T20:00:00.000000000",
          "2024-10-09T21:00:00.000000000",
          "2024-10-09T22:00:00.000000000",
          "2024-10-09T23:00:00.000000000",
          "2024-10-10T00:00:00.000000000",
          "2024-10-10T01:00:00.000000000",
          "2024-10-10T02:00:00.000000000",
          "2024-10-10T03:00:00.000000000",
          "2024-10-10T04:00:00.000000000",
          "2024-10-10T05:00:00.000000000",
          "2024-10-10T06:00:00.000000000",
          "2024-10-10T07:00:00.000000000",
          "2024-10-10T08:00:00.000000000",
          "2024-10-10T09:00:00.000000000",
          "2024-10-10T10:00:00.000000000",
          "2024-10-10T11:00:00.000000000",
          "2024-10-10T12:00:00.000000000",
          "2024-10-10T13:00:00.000000000",
          "2024-10-10T14:00:00.000000000",
          "2024-10-10T15:00:00.000000000",
          "2024-10-10T16:00:00.000000000",
          "2024-10-10T17:00:00.000000000",
          "2024-10-10T18:00:00.000000000",
          "2024-10-10T19:00:00.000000000",
          "2024-10-10T20:00:00.000000000",
          "2024-10-10T21:00:00.000000000",
          "2024-10-10T22:00:00.000000000",
          "2024-10-10T23:00:00.000000000",
          "2024-10-11T00:00:00.000000000",
          "2024-10-11T01:00:00.000000000",
          "2024-10-11T02:00:00.000000000",
          "2024-10-11T03:00:00.000000000",
          "2024-10-11T04:00:00.000000000",
          "2024-10-11T05:00:00.000000000",
          "2024-10-11T06:00:00.000000000",
          "2024-10-11T07:00:00.000000000",
          "2024-10-11T08:00:00.000000000",
          "2024-10-11T09:00:00.000000000",
          "2024-10-11T10:00:00.000000000",
          "2024-10-11T11:00:00.000000000",
          "2024-10-11T12:00:00.000000000",
          "2024-10-11T13:00:00.000000000",
          "2024-10-11T14:00:00.000000000",
          "2024-10-11T15:00:00.000000000",
          "2024-10-11T16:00:00.000000000",
          "2024-10-11T17:00:00.000000000",
          "2024-10-11T18:00:00.000000000",
          "2024-10-11T19:00:00.000000000",
          "2024-10-11T20:00:00.000000000",
          "2024-10-11T21:00:00.000000000",
          "2024-10-11T22:00:00.000000000",
          "2024-10-11T23:00:00.000000000",
          "2024-10-12T00:00:00.000000000",
          "2024-10-12T01:00:00.000000000",
          "2024-10-12T02:00:00.000000000",
          "2024-10-12T03:00:00.000000000",
          "2024-10-12T04:00:00.000000000",
          "2024-10-12T05:00:00.000000000",
          "2024-10-12T06:00:00.000000000",
          "2024-10-12T07:00:00.000000000",
          "2024-10-12T08:00:00.000000000",
          "2024-10-12T09:00:00.000000000",
          "2024-10-12T10:00:00.000000000",
          "2024-10-12T11:00:00.000000000",
          "2024-10-12T12:00:00.000000000",
          "2024-10-12T13:00:00.000000000",
          "2024-10-12T14:00:00.000000000",
          "2024-10-12T15:00:00.000000000",
          "2024-10-12T16:00:00.000000000",
          "2024-10-12T17:00:00.000000000",
          "2024-10-12T18:00:00.000000000",
          "2024-10-12T19:00:00.000000000",
          "2024-10-12T20:00:00.000000000",
          "2024-10-12T21:00:00.000000000",
          "2024-10-12T22:00:00.000000000",
          "2024-10-12T23:00:00.000000000",
          "2024-10-13T00:00:00.000000000",
          "2024-10-13T01:00:00.000000000",
          "2024-10-13T02:00:00.000000000",
          "2024-10-13T03:00:00.000000000",
          "2024-10-13T04:00:00.000000000",
          "2024-10-13T05:00:00.000000000",
          "2024-10-13T06:00:00.000000000",
          "2024-10-13T07:00:00.000000000",
          "2024-10-13T08:00:00.000000000",
          "2024-10-13T09:00:00.000000000",
          "2024-10-13T10:00:00.000000000",
          "2024-10-13T11:00:00.000000000",
          "2024-10-13T12:00:00.000000000",
          "2024-10-13T13:00:00.000000000",
          "2024-10-13T14:00:00.000000000",
          "2024-10-13T15:00:00.000000000",
          "2024-10-13T16:00:00.000000000",
          "2024-10-13T17:00:00.000000000",
          "2024-10-13T18:00:00.000000000",
          "2024-10-13T19:00:00.000000000",
          "2024-10-13T20:00:00.000000000",
          "2024-10-13T21:00:00.000000000",
          "2024-10-13T22:00:00.000000000",
          "2024-10-13T23:00:00.000000000",
          "2024-10-14T00:00:00.000000000",
          "2024-10-14T01:00:00.000000000",
          "2024-10-14T02:00:00.000000000",
          "2024-10-14T03:00:00.000000000",
          "2024-10-14T04:00:00.000000000",
          "2024-10-14T05:00:00.000000000",
          "2024-10-14T06:00:00.000000000",
          "2024-10-14T07:00:00.000000000",
          "2024-10-14T08:00:00.000000000",
          "2024-10-14T09:00:00.000000000",
          "2024-10-14T10:00:00.000000000",
          "2024-10-14T11:00:00.000000000",
          "2024-10-14T12:00:00.000000000",
          "2024-10-14T13:00:00.000000000",
          "2024-10-14T14:00:00.000000000",
          "2024-10-14T15:00:00.000000000",
          "2024-10-14T16:00:00.000000000",
          "2024-10-14T17:00:00.000000000",
          "2024-10-14T18:00:00.000000000",
          "2024-10-14T19:00:00.000000000",
          "2024-10-14T20:00:00.000000000",
          "2024-10-14T21:00:00.000000000",
          "2024-10-14T22:00:00.000000000",
          "2024-10-14T23:00:00.000000000",
          "2024-10-15T00:00:00.000000000",
          "2024-10-15T01:00:00.000000000",
          "2024-10-15T02:00:00.000000000",
          "2024-10-15T03:00:00.000000000",
          "2024-10-15T04:00:00.000000000",
          "2024-10-15T05:00:00.000000000",
          "2024-10-15T06:00:00.000000000",
          "2024-10-15T07:00:00.000000000",
          "2024-10-15T08:00:00.000000000",
          "2024-10-15T09:00:00.000000000",
          "2024-10-15T10:00:00.000000000",
          "2024-10-15T11:00:00.000000000",
          "2024-10-15T12:00:00.000000000",
          "2024-10-15T13:00:00.000000000",
          "2024-10-15T14:00:00.000000000",
          "2024-10-15T15:00:00.000000000",
          "2024-10-15T16:00:00.000000000",
          "2024-10-15T17:00:00.000000000",
          "2024-10-15T18:00:00.000000000",
          "2024-10-15T19:00:00.000000000",
          "2024-10-15T20:00:00.000000000",
          "2024-10-15T21:00:00.000000000",
          "2024-10-15T22:00:00.000000000",
          "2024-10-15T23:00:00.000000000",
          "2024-10-16T00:00:00.000000000",
          "2024-10-16T01:00:00.000000000",
          "2024-10-16T02:00:00.000000000",
          "2024-10-16T03:00:00.000000000",
          "2024-10-16T04:00:00.000000000",
          "2024-10-16T05:00:00.000000000",
          "2024-10-16T06:00:00.000000000",
          "2024-10-16T07:00:00.000000000",
          "2024-10-16T08:00:00.000000000",
          "2024-10-16T09:00:00.000000000",
          "2024-10-16T10:00:00.000000000",
          "2024-10-16T11:00:00.000000000",
          "2024-10-16T12:00:00.000000000",
          "2024-10-16T13:00:00.000000000",
          "2024-10-16T14:00:00.000000000",
          "2024-10-16T15:00:00.000000000",
          "2024-10-16T16:00:00.000000000",
          "2024-10-16T17:00:00.000000000",
          "2024-10-16T18:00:00.000000000",
          "2024-10-16T19:00:00.000000000",
          "2024-10-16T20:00:00.000000000",
          "2024-10-16T21:00:00.000000000",
          "2024-10-16T22:00:00.000000000",
          "2024-10-16T23:00:00.000000000",
          "2024-10-17T00:00:00.000000000",
          "2024-10-17T01:00:00.000000000",
          "2024-10-17T02:00:00.000000000",
          "2024-10-17T03:00:00.000000000",
          "2024-10-17T04:00:00.000000000",
          "2024-10-17T05:00:00.000000000",
          "2024-10-17T06:00:00.000000000",
          "2024-10-17T07:00:00.000000000",
          "2024-10-17T08:00:00.000000000",
          "2024-10-17T09:00:00.000000000",
          "2024-10-17T10:00:00.000000000",
          "2024-10-17T11:00:00.000000000",
          "2024-10-17T12:00:00.000000000",
          "2024-10-17T13:00:00.000000000",
          "2024-10-17T14:00:00.000000000",
          "2024-10-17T15:00:00.000000000",
          "2024-10-17T16:00:00.000000000",
          "2024-10-17T17:00:00.000000000",
          "2024-10-17T18:00:00.000000000",
          "2024-10-17T19:00:00.000000000",
          "2024-10-17T20:00:00.000000000",
          "2024-10-17T21:00:00.000000000",
          "2024-10-17T22:00:00.000000000",
          "2024-10-17T23:00:00.000000000",
          "2024-10-18T00:00:00.000000000",
          "2024-10-18T01:00:00.000000000",
          "2024-10-18T02:00:00.000000000",
          "2024-10-18T03:00:00.000000000",
          "2024-10-18T04:00:00.000000000",
          "2024-10-18T05:00:00.000000000",
          "2024-10-18T06:00:00.000000000",
          "2024-10-18T07:00:00.000000000",
          "2024-10-18T08:00:00.000000000",
          "2024-10-18T09:00:00.000000000",
          "2024-10-18T10:00:00.000000000",
          "2024-10-18T11:00:00.000000000",
          "2024-10-18T12:00:00.000000000",
          "2024-10-18T13:00:00.000000000",
          "2024-10-18T14:00:00.000000000",
          "2024-10-18T15:00:00.000000000",
          "2024-10-18T16:00:00.000000000",
          "2024-10-18T17:00:00.000000000",
          "2024-10-18T18:00:00.000000000",
          "2024-10-18T19:00:00.000000000",
          "2024-10-18T20:00:00.000000000",
          "2024-10-18T21:00:00.000000000",
          "2024-10-18T22:00:00.000000000",
          "2024-10-18T23:00:00.000000000",
          "2024-10-19T00:00:00.000000000",
          "2024-10-19T01:00:00.000000000",
          "2024-10-19T02:00:00.000000000",
          "2024-10-19T03:00:00.000000000",
          "2024-10-19T04:00:00.000000000",
          "2024-10-19T05:00:00.000000000",
          "2024-10-19T06:00:00.000000000",
          "2024-10-19T07:00:00.000000000",
          "2024-10-19T08:00:00.000000000",
          "2024-10-19T09:00:00.000000000",
          "2024-10-19T10:00:00.000000000",
          "2024-10-19T11:00:00.000000000",
          "2024-10-19T12:00:00.000000000",
          "2024-10-19T13:00:00.000000000",
          "2024-10-19T14:00:00.000000000",
          "2024-10-19T15:00:00.000000000",
          "2024-10-19T16:00:00.000000000",
          "2024-10-19T17:00:00.000000000",
          "2024-10-19T18:00:00.000000000",
          "2024-10-19T19:00:00.000000000",
          "2024-10-19T20:00:00.000000000",
          "2024-10-19T21:00:00.000000000",
          "2024-10-19T22:00:00.000000000",
          "2024-10-19T23:00:00.000000000",
          "2024-10-20T00:00:00.000000000",
          "2024-10-20T01:00:00.000000000",
          "2024-10-20T02:00:00.000000000",
          "2024-10-20T03:00:00.000000000",
          "2024-10-20T04:00:00.000000000",
          "2024-10-20T05:00:00.000000000",
          "2024-10-20T06:00:00.000000000",
          "2024-10-20T07:00:00.000000000",
          "2024-10-20T08:00:00.000000000",
          "2024-10-20T09:00:00.000000000",
          "2024-10-20T10:00:00.000000000",
          "2024-10-20T11:00:00.000000000",
          "2024-10-20T12:00:00.000000000",
          "2024-10-20T13:00:00.000000000",
          "2024-10-20T14:00:00.000000000",
          "2024-10-20T15:00:00.000000000",
          "2024-10-20T16:00:00.000000000",
          "2024-10-20T17:00:00.000000000",
          "2024-10-20T18:00:00.000000000",
          "2024-10-20T19:00:00.000000000",
          "2024-10-20T20:00:00.000000000",
          "2024-10-20T21:00:00.000000000",
          "2024-10-20T22:00:00.000000000",
          "2024-10-20T23:00:00.000000000",
          "2024-10-21T00:00:00.000000000",
          "2024-10-21T01:00:00.000000000",
          "2024-10-21T02:00:00.000000000",
          "2024-10-21T03:00:00.000000000",
          "2024-10-21T04:00:00.000000000",
          "2024-10-21T05:00:00.000000000",
          "2024-10-21T06:00:00.000000000",
          "2024-10-21T07:00:00.000000000",
          "2024-10-21T08:00:00.000000000",
          "2024-10-21T09:00:00.000000000",
          "2024-10-21T10:00:00.000000000",
          "2024-10-21T11:00:00.000000000",
          "2024-10-21T12:00:00.000000000",
          "2024-10-21T13:00:00.000000000",
          "2024-10-21T14:00:00.000000000",
          "2024-10-21T15:00:00.000000000",
          "2024-10-21T16:00:00.000000000",
          "2024-10-21T17:00:00.000000000",
          "2024-10-21T18:00:00.000000000",
          "2024-10-21T19:00:00.000000000",
          "2024-10-21T20:00:00.000000000",
          "2024-10-21T21:00:00.000000000",
          "2024-10-21T22:00:00.000000000",
          "2024-10-21T23:00:00.000000000",
          "2024-10-22T00:00:00.000000000",
          "2024-10-22T01:00:00.000000000",
          "2024-10-22T02:00:00.000000000",
          "2024-10-22T03:00:00.000000000",
          "2024-10-22T04:00:00.000000000",
          "2024-10-22T05:00:00.000000000",
          "2024-10-22T06:00:00.000000000",
          "2024-10-22T07:00:00.000000000",
          "2024-10-22T08:00:00.000000000",
          "2024-10-22T09:00:00.000000000",
          "2024-10-22T10:00:00.000000000",
          "2024-10-22T11:00:00.000000000",
          "2024-10-22T12:00:00.000000000",
          "2024-10-22T13:00:00.000000000",
          "2024-10-22T14:00:00.000000000",
          "2024-10-22T15:00:00.000000000",
          "2024-10-22T16:00:00.000000000",
          "2024-10-22T17:00:00.000000000",
          "2024-10-22T18:00:00.000000000",
          "2024-10-22T19:00:00.000000000",
          "2024-10-22T20:00:00.000000000",
          "2024-10-22T21:00:00.000000000",
          "2024-10-22T22:00:00.000000000",
          "2024-10-22T23:00:00.000000000",
          "2024-10-23T00:00:00.000000000",
          "2024-10-23T01:00:00.000000000",
          "2024-10-23T02:00:00.000000000",
          "2024-10-23T03:00:00.000000000",
          "2024-10-23T04:00:00.000000000",
          "2024-10-23T05:00:00.000000000",
          "2024-10-23T06:00:00.000000000",
          "2024-10-23T07:00:00.000000000",
          "2024-10-23T08:00:00.000000000",
          "2024-10-23T09:00:00.000000000",
          "2024-10-23T10:00:00.000000000",
          "2024-10-23T11:00:00.000000000",
          "2024-10-23T12:00:00.000000000",
          "2024-10-23T13:00:00.000000000",
          "2024-10-23T14:00:00.000000000",
          "2024-10-23T15:00:00.000000000",
          "2024-10-23T16:00:00.000000000",
          "2024-10-23T17:00:00.000000000",
          "2024-10-23T18:00:00.000000000",
          "2024-10-23T19:00:00.000000000",
          "2024-10-23T20:00:00.000000000",
          "2024-10-23T21:00:00.000000000",
          "2024-10-23T22:00:00.000000000",
          "2024-10-23T23:00:00.000000000",
          "2024-10-24T00:00:00.000000000",
          "2024-10-24T01:00:00.000000000",
          "2024-10-24T02:00:00.000000000",
          "2024-10-24T03:00:00.000000000",
          "2024-10-24T04:00:00.000000000",
          "2024-10-24T05:00:00.000000000",
          "2024-10-24T06:00:00.000000000",
          "2024-10-24T07:00:00.000000000",
          "2024-10-24T08:00:00.000000000",
          "2024-10-24T09:00:00.000000000",
          "2024-10-24T10:00:00.000000000",
          "2024-10-24T11:00:00.000000000",
          "2024-10-24T12:00:00.000000000",
          "2024-10-24T13:00:00.000000000",
          "2024-10-24T14:00:00.000000000",
          "2024-10-24T15:00:00.000000000",
          "2024-10-24T16:00:00.000000000",
          "2024-10-24T17:00:00.000000000",
          "2024-10-24T18:00:00.000000000",
          "2024-10-24T19:00:00.000000000",
          "2024-10-24T20:00:00.000000000",
          "2024-10-24T21:00:00.000000000",
          "2024-10-24T22:00:00.000000000",
          "2024-10-24T23:00:00.000000000",
          "2024-10-25T00:00:00.000000000",
          "2024-10-25T01:00:00.000000000",
          "2024-10-25T02:00:00.000000000",
          "2024-10-25T03:00:00.000000000",
          "2024-10-25T04:00:00.000000000",
          "2024-10-25T05:00:00.000000000",
          "2024-10-25T06:00:00.000000000",
          "2024-10-25T07:00:00.000000000",
          "2024-10-25T08:00:00.000000000",
          "2024-10-25T09:00:00.000000000",
          "2024-10-25T10:00:00.000000000",
          "2024-10-25T11:00:00.000000000",
          "2024-10-25T12:00:00.000000000",
          "2024-10-25T13:00:00.000000000",
          "2024-10-25T14:00:00.000000000",
          "2024-10-25T15:00:00.000000000",
          "2024-10-25T16:00:00.000000000",
          "2024-10-25T17:00:00.000000000",
          "2024-10-25T18:00:00.000000000",
          "2024-10-25T19:00:00.000000000",
          "2024-10-25T20:00:00.000000000",
          "2024-10-25T21:00:00.000000000",
          "2024-10-25T22:00:00.000000000",
          "2024-10-25T23:00:00.000000000",
          "2024-10-26T00:00:00.000000000",
          "2024-10-26T01:00:00.000000000",
          "2024-10-26T02:00:00.000000000",
          "2024-10-26T03:00:00.000000000",
          "2024-10-26T04:00:00.000000000",
          "2024-10-26T05:00:00.000000000",
          "2024-10-26T06:00:00.000000000",
          "2024-10-26T07:00:00.000000000",
          "2024-10-26T08:00:00.000000000",
          "2024-10-26T09:00:00.000000000",
          "2024-10-26T10:00:00.000000000",
          "2024-10-26T11:00:00.000000000",
          "2024-10-26T12:00:00.000000000",
          "2024-10-26T13:00:00.000000000",
          "2024-10-26T14:00:00.000000000",
          "2024-10-26T15:00:00.000000000",
          "2024-10-26T16:00:00.000000000",
          "2024-10-26T17:00:00.000000000",
          "2024-10-26T18:00:00.000000000",
          "2024-10-26T19:00:00.000000000",
          "2024-10-26T20:00:00.000000000",
          "2024-10-26T21:00:00.000000000",
          "2024-10-26T22:00:00.000000000",
          "2024-10-26T23:00:00.000000000",
          "2024-10-27T00:00:00.000000000",
          "2024-10-27T01:00:00.000000000",
          "2024-10-27T02:00:00.000000000",
          "2024-10-27T03:00:00.000000000",
          "2024-10-27T04:00:00.000000000",
          "2024-10-27T05:00:00.000000000",
          "2024-10-27T06:00:00.000000000",
          "2024-10-27T07:00:00.000000000",
          "2024-10-27T08:00:00.000000000",
          "2024-10-27T09:00:00.000000000",
          "2024-10-27T10:00:00.000000000",
          "2024-10-27T11:00:00.000000000",
          "2024-10-27T12:00:00.000000000",
          "2024-10-27T13:00:00.000000000",
          "2024-10-27T14:00:00.000000000",
          "2024-10-27T15:00:00.000000000",
          "2024-10-27T16:00:00.000000000",
          "2024-10-27T17:00:00.000000000",
          "2024-10-27T18:00:00.000000000",
          "2024-10-27T19:00:00.000000000",
          "2024-10-27T20:00:00.000000000",
          "2024-10-27T21:00:00.000000000",
          "2024-10-27T22:00:00.000000000",
          "2024-10-27T23:00:00.000000000",
          "2024-10-28T00:00:00.000000000",
          "2024-10-28T01:00:00.000000000",
          "2024-10-28T02:00:00.000000000",
          "2024-10-28T03:00:00.000000000",
          "2024-10-28T04:00:00.000000000",
          "2024-10-28T05:00:00.000000000",
          "2024-10-28T06:00:00.000000000",
          "2024-10-28T07:00:00.000000000",
          "2024-10-28T08:00:00.000000000",
          "2024-10-28T09:00:00.000000000",
          "2024-10-28T10:00:00.000000000",
          "2024-10-28T11:00:00.000000000",
          "2024-10-28T12:00:00.000000000",
          "2024-10-28T13:00:00.000000000",
          "2024-10-28T14:00:00.000000000",
          "2024-10-28T15:00:00.000000000",
          "2024-10-28T16:00:00.000000000",
          "2024-10-28T17:00:00.000000000",
          "2024-10-28T18:00:00.000000000",
          "2024-10-28T19:00:00.000000000",
          "2024-10-28T20:00:00.000000000",
          "2024-10-28T21:00:00.000000000",
          "2024-10-28T22:00:00.000000000",
          "2024-10-28T23:00:00.000000000",
          "2024-10-29T00:00:00.000000000",
          "2024-10-29T01:00:00.000000000",
          "2024-10-29T02:00:00.000000000",
          "2024-10-29T03:00:00.000000000",
          "2024-10-29T04:00:00.000000000",
          "2024-10-29T05:00:00.000000000",
          "2024-10-29T06:00:00.000000000",
          "2024-10-29T07:00:00.000000000",
          "2024-10-29T08:00:00.000000000",
          "2024-10-29T09:00:00.000000000",
          "2024-10-29T10:00:00.000000000",
          "2024-10-29T11:00:00.000000000",
          "2024-10-29T12:00:00.000000000",
          "2024-10-29T13:00:00.000000000",
          "2024-10-29T14:00:00.000000000",
          "2024-10-29T15:00:00.000000000",
          "2024-10-29T16:00:00.000000000",
          "2024-10-29T17:00:00.000000000",
          "2024-10-29T18:00:00.000000000",
          "2024-10-29T19:00:00.000000000",
          "2024-10-29T20:00:00.000000000",
          "2024-10-29T21:00:00.000000000",
          "2024-10-29T22:00:00.000000000",
          "2024-10-29T23:00:00.000000000",
          "2024-10-30T00:00:00.000000000",
          "2024-10-30T01:00:00.000000000",
          "2024-10-30T02:00:00.000000000",
          "2024-10-30T03:00:00.000000000",
          "2024-10-30T04:00:00.000000000",
          "2024-10-30T05:00:00.000000000",
          "2024-10-30T06:00:00.000000000",
          "2024-10-30T07:00:00.000000000",
          "2024-10-30T08:00:00.000000000",
          "2024-10-30T09:00:00.000000000",
          "2024-10-30T10:00:00.000000000",
          "2024-10-30T11:00:00.000000000",
          "2024-10-30T12:00:00.000000000",
          "2024-10-30T13:00:00.000000000",
          "2024-10-30T14:00:00.000000000",
          "2024-10-30T15:00:00.000000000",
          "2024-10-30T16:00:00.000000000",
          "2024-10-30T17:00:00.000000000",
          "2024-10-30T18:00:00.000000000",
          "2024-10-30T19:00:00.000000000",
          "2024-10-30T20:00:00.000000000",
          "2024-10-30T21:00:00.000000000",
          "2024-10-30T22:00:00.000000000",
          "2024-10-30T23:00:00.000000000",
          "2024-10-31T00:00:00.000000000",
          "2024-10-31T01:00:00.000000000",
          "2024-10-31T02:00:00.000000000",
          "2024-10-31T03:00:00.000000000",
          "2024-10-31T04:00:00.000000000",
          "2024-10-31T05:00:00.000000000",
          "2024-10-31T06:00:00.000000000",
          "2024-10-31T07:00:00.000000000",
          "2024-10-31T08:00:00.000000000",
          "2024-10-31T09:00:00.000000000",
          "2024-10-31T10:00:00.000000000",
          "2024-10-31T11:00:00.000000000",
          "2024-10-31T12:00:00.000000000",
          "2024-10-31T13:00:00.000000000",
          "2024-10-31T14:00:00.000000000",
          "2024-10-31T15:00:00.000000000",
          "2024-10-31T16:00:00.000000000",
          "2024-10-31T17:00:00.000000000",
          "2024-10-31T18:00:00.000000000",
          "2024-10-31T19:00:00.000000000",
          "2024-10-31T20:00:00.000000000",
          "2024-10-31T21:00:00.000000000",
          "2024-10-31T22:00:00.000000000",
          "2024-10-31T23:00:00.000000000",
          "2024-11-01T00:00:00.000000000"
         ],
         "xaxis": "x",
         "y": {
          "bdata": "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",
          "dtype": "f4"
         },
         "yaxis": "y"
        },
        {
         "line": {
          "color": "green"
         },
         "marker": {
          "size": 10
         },
         "mode": "markers",
         "name": "actual value",
         "type": "scatter",
         "x": [
          "2024-11-01T00:00:00.000000000"
         ],
         "y": [
          32
         ]
        },
        {
         "line": {
          "color": "red"
         },
         "marker": {
          "size": 15,
          "symbol": "x"
         },
         "mode": "markers",
         "name": "prediction",
         "type": "scatter",
         "x": [
          "2024-11-01T00:00:00.000000000"
         ],
         "y": [
          23.24020542857491
         ]
        }
       ],
       "layout": {
        "legend": {
         "tracegroupgap": 0
        },
        "template": {
         "data": {
          "bar": [
           {
            "error_x": {
             "color": "#f2f5fa"
            },
            "error_y": {
             "color": "#f2f5fa"
            },
            "marker": {
             "line": {
              "color": "rgb(17,17,17)",
              "width": 0.5
             },
             "pattern": {
              "fillmode": "overlay",
              "size": 10,
              "solidity": 0.2
             }
            },
            "type": "bar"
           }
          ],
          "barpolar": [
           {
            "marker": {
             "line": {
              "color": "rgb(17,17,17)",
              "width": 0.5
             },
             "pattern": {
              "fillmode": "overlay",
              "size": 10,
              "solidity": 0.2
             }
            },
            "type": "barpolar"
           }
          ],
          "carpet": [
           {
            "aaxis": {
             "endlinecolor": "#A2B1C6",
             "gridcolor": "#506784",
             "linecolor": "#506784",
             "minorgridcolor": "#506784",
             "startlinecolor": "#A2B1C6"
            },
            "baxis": {
             "endlinecolor": "#A2B1C6",
             "gridcolor": "#506784",
             "linecolor": "#506784",
             "minorgridcolor": "#506784",
             "startlinecolor": "#A2B1C6"
            },
            "type": "carpet"
           }
          ],
          "choropleth": [
           {
            "colorbar": {
             "outlinewidth": 0,
             "ticks": ""
            },
            "type": "choropleth"
           }
          ],
          "contour": [
           {
            "colorbar": {
             "outlinewidth": 0,
             "ticks": ""
            },
            "colorscale": [
             [
              0,
              "#0d0887"
             ],
             [
              0.1111111111111111,
              "#46039f"
             ],
             [
              0.2222222222222222,
              "#7201a8"
             ],
             [
              0.3333333333333333,
              "#9c179e"
             ],
             [
              0.4444444444444444,
              "#bd3786"
             ],
             [
              0.5555555555555556,
              "#d8576b"
             ],
             [
              0.6666666666666666,
              "#ed7953"
             ],
             [
              0.7777777777777778,
              "#fb9f3a"
             ],
             [
              0.8888888888888888,
              "#fdca26"
             ],
             [
              1,
              "#f0f921"
             ]
            ],
            "type": "contour"
           }
          ],
          "contourcarpet": [
           {
            "colorbar": {
             "outlinewidth": 0,
             "ticks": ""
            },
            "type": "contourcarpet"
           }
          ],
          "heatmap": [
           {
            "colorbar": {
             "outlinewidth": 0,
             "ticks": ""
            },
            "colorscale": [
             [
              0,
              "#0d0887"
             ],
             [
              0.1111111111111111,
              "#46039f"
             ],
             [
              0.2222222222222222,
              "#7201a8"
             ],
             [
              0.3333333333333333,
              "#9c179e"
             ],
             [
              0.4444444444444444,
              "#bd3786"
             ],
             [
              0.5555555555555556,
              "#d8576b"
             ],
             [
              0.6666666666666666,
              "#ed7953"
             ],
             [
              0.7777777777777778,
              "#fb9f3a"
             ],
             [
              0.8888888888888888,
              "#fdca26"
             ],
             [
              1,
              "#f0f921"
             ]
            ],
            "type": "heatmap"
           }
          ],
          "histogram": [
           {
            "marker": {
             "pattern": {
              "fillmode": "overlay",
              "size": 10,
              "solidity": 0.2
             }
            },
            "type": "histogram"
           }
          ],
          "histogram2d": [
           {
            "colorbar": {
             "outlinewidth": 0,
             "ticks": ""
            },
            "colorscale": [
             [
              0,
              "#0d0887"
             ],
             [
              0.1111111111111111,
              "#46039f"
             ],
             [
              0.2222222222222222,
              "#7201a8"
             ],
             [
              0.3333333333333333,
              "#9c179e"
             ],
             [
              0.4444444444444444,
              "#bd3786"
             ],
             [
              0.5555555555555556,
              "#d8576b"
             ],
             [
              0.6666666666666666,
              "#ed7953"
             ],
             [
              0.7777777777777778,
              "#fb9f3a"
             ],
             [
              0.8888888888888888,
              "#fdca26"
             ],
             [
              1,
              "#f0f921"
             ]
            ],
            "type": "histogram2d"
           }
          ],
          "histogram2dcontour": [
           {
            "colorbar": {
             "outlinewidth": 0,
             "ticks": ""
            },
            "colorscale": [
             [
              0,
              "#0d0887"
             ],
             [
              0.1111111111111111,
              "#46039f"
             ],
             [
              0.2222222222222222,
              "#7201a8"
             ],
             [
              0.3333333333333333,
              "#9c179e"
             ],
             [
              0.4444444444444444,
              "#bd3786"
             ],
             [
              0.5555555555555556,
              "#d8576b"
             ],
             [
              0.6666666666666666,
              "#ed7953"
             ],
             [
              0.7777777777777778,
              "#fb9f3a"
             ],
             [
              0.8888888888888888,
              "#fdca26"
             ],
             [
              1,
              "#f0f921"
             ]
            ],
            "type": "histogram2dcontour"
           }
          ],
          "mesh3d": [
           {
            "colorbar": {
             "outlinewidth": 0,
             "ticks": ""
            },
            "type": "mesh3d"
           }
          ],
          "parcoords": [
           {
            "line": {
             "colorbar": {
              "outlinewidth": 0,
              "ticks": ""
             }
            },
            "type": "parcoords"
           }
          ],
          "pie": [
           {
            "automargin": true,
            "type": "pie"
           }
          ],
          "scatter": [
           {
            "marker": {
             "line": {
              "color": "#283442"
             }
            },
            "type": "scatter"
           }
          ],
          "scatter3d": [
           {
            "line": {
             "colorbar": {
              "outlinewidth": 0,
              "ticks": ""
             }
            },
            "marker": {
             "colorbar": {
              "outlinewidth": 0,
              "ticks": ""
             }
            },
            "type": "scatter3d"
           }
          ],
          "scattercarpet": [
           {
            "marker": {
             "colorbar": {
              "outlinewidth": 0,
              "ticks": ""
             }
            },
            "type": "scattercarpet"
           }
          ],
          "scattergeo": [
           {
            "marker": {
             "colorbar": {
              "outlinewidth": 0,
              "ticks": ""
             }
            },
            "type": "scattergeo"
           }
          ],
          "scattergl": [
           {
            "marker": {
             "line": {
              "color": "#283442"
             }
            },
            "type": "scattergl"
           }
          ],
          "scattermap": [
           {
            "marker": {
             "colorbar": {
              "outlinewidth": 0,
              "ticks": ""
             }
            },
            "type": "scattermap"
           }
          ],
          "scattermapbox": [
           {
            "marker": {
             "colorbar": {
              "outlinewidth": 0,
              "ticks": ""
             }
            },
            "type": "scattermapbox"
           }
          ],
          "scatterpolar": [
           {
            "marker": {
             "colorbar": {
              "outlinewidth": 0,
              "ticks": ""
             }
            },
            "type": "scatterpolar"
           }
          ],
          "scatterpolargl": [
           {
            "marker": {
             "colorbar": {
              "outlinewidth": 0,
              "ticks": ""
             }
            },
            "type": "scatterpolargl"
           }
          ],
          "scatterternary": [
           {
            "marker": {
             "colorbar": {
              "outlinewidth": 0,
              "ticks": ""
             }
            },
            "type": "scatterternary"
           }
          ],
          "surface": [
           {
            "colorbar": {
             "outlinewidth": 0,
             "ticks": ""
            },
            "colorscale": [
             [
              0,
              "#0d0887"
             ],
             [
              0.1111111111111111,
              "#46039f"
             ],
             [
              0.2222222222222222,
              "#7201a8"
             ],
             [
              0.3333333333333333,
              "#9c179e"
             ],
             [
              0.4444444444444444,
              "#bd3786"
             ],
             [
              0.5555555555555556,
              "#d8576b"
             ],
             [
              0.6666666666666666,
              "#ed7953"
             ],
             [
              0.7777777777777778,
              "#fb9f3a"
             ],
             [
              0.8888888888888888,
              "#fdca26"
             ],
             [
              1,
              "#f0f921"
             ]
            ],
            "type": "surface"
           }
          ],
          "table": [
           {
            "cells": {
             "fill": {
              "color": "#506784"
             },
             "line": {
              "color": "rgb(17,17,17)"
             }
            },
            "header": {
             "fill": {
              "color": "#2a3f5f"
             },
             "line": {
              "color": "rgb(17,17,17)"
             }
            },
            "type": "table"
           }
          ]
         },
         "layout": {
          "annotationdefaults": {
           "arrowcolor": "#f2f5fa",
           "arrowhead": 0,
           "arrowwidth": 1
          },
          "autotypenumbers": "strict",
          "coloraxis": {
           "colorbar": {
            "outlinewidth": 0,
            "ticks": ""
           }
          },
          "colorscale": {
           "diverging": [
            [
             0,
             "#8e0152"
            ],
            [
             0.1,
             "#c51b7d"
            ],
            [
             0.2,
             "#de77ae"
            ],
            [
             0.3,
             "#f1b6da"
            ],
            [
             0.4,
             "#fde0ef"
            ],
            [
             0.5,
             "#f7f7f7"
            ],
            [
             0.6,
             "#e6f5d0"
            ],
            [
             0.7,
             "#b8e186"
            ],
            [
             0.8,
             "#7fbc41"
            ],
            [
             0.9,
             "#4d9221"
            ],
            [
             1,
             "#276419"
            ]
           ],
           "sequential": [
            [
             0,
             "#0d0887"
            ],
            [
             0.1111111111111111,
             "#46039f"
            ],
            [
             0.2222222222222222,
             "#7201a8"
            ],
            [
             0.3333333333333333,
             "#9c179e"
            ],
            [
             0.4444444444444444,
             "#bd3786"
            ],
            [
             0.5555555555555556,
             "#d8576b"
            ],
            [
             0.6666666666666666,
             "#ed7953"
            ],
            [
             0.7777777777777778,
             "#fb9f3a"
            ],
            [
             0.8888888888888888,
             "#fdca26"
            ],
            [
             1,
             "#f0f921"
            ]
           ],
           "sequentialminus": [
            [
             0,
             "#0d0887"
            ],
            [
             0.1111111111111111,
             "#46039f"
            ],
            [
             0.2222222222222222,
             "#7201a8"
            ],
            [
             0.3333333333333333,
             "#9c179e"
            ],
            [
             0.4444444444444444,
             "#bd3786"
            ],
            [
             0.5555555555555556,
             "#d8576b"
            ],
            [
             0.6666666666666666,
             "#ed7953"
            ],
            [
             0.7777777777777778,
             "#fb9f3a"
            ],
            [
             0.8888888888888888,
             "#fdca26"
            ],
            [
             1,
             "#f0f921"
            ]
           ]
          },
          "colorway": [
           "#636efa",
           "#EF553B",
           "#00cc96",
           "#ab63fa",
           "#FFA15A",
           "#19d3f3",
           "#FF6692",
           "#B6E880",
           "#FF97FF",
           "#FECB52"
          ],
          "font": {
           "color": "#f2f5fa"
          },
          "geo": {
           "bgcolor": "rgb(17,17,17)",
           "lakecolor": "rgb(17,17,17)",
           "landcolor": "rgb(17,17,17)",
           "showlakes": true,
           "showland": true,
           "subunitcolor": "#506784"
          },
          "hoverlabel": {
           "align": "left"
          },
          "hovermode": "closest",
          "mapbox": {
           "style": "dark"
          },
          "paper_bgcolor": "rgb(17,17,17)",
          "plot_bgcolor": "rgb(17,17,17)",
          "polar": {
           "angularaxis": {
            "gridcolor": "#506784",
            "linecolor": "#506784",
            "ticks": ""
           },
           "bgcolor": "rgb(17,17,17)",
           "radialaxis": {
            "gridcolor": "#506784",
            "linecolor": "#506784",
            "ticks": ""
           }
          },
          "scene": {
           "xaxis": {
            "backgroundcolor": "rgb(17,17,17)",
            "gridcolor": "#506784",
            "gridwidth": 2,
            "linecolor": "#506784",
            "showbackground": true,
            "ticks": "",
            "zerolinecolor": "#C8D4E3"
           },
           "yaxis": {
            "backgroundcolor": "rgb(17,17,17)",
            "gridcolor": "#506784",
            "gridwidth": 2,
            "linecolor": "#506784",
            "showbackground": true,
            "ticks": "",
            "zerolinecolor": "#C8D4E3"
           },
           "zaxis": {
            "backgroundcolor": "rgb(17,17,17)",
            "gridcolor": "#506784",
            "gridwidth": 2,
            "linecolor": "#506784",
            "showbackground": true,
            "ticks": "",
            "zerolinecolor": "#C8D4E3"
           }
          },
          "shapedefaults": {
           "line": {
            "color": "#f2f5fa"
           }
          },
          "sliderdefaults": {
           "bgcolor": "#C8D4E3",
           "bordercolor": "rgb(17,17,17)",
           "borderwidth": 1,
           "tickwidth": 0
          },
          "ternary": {
           "aaxis": {
            "gridcolor": "#506784",
            "linecolor": "#506784",
            "ticks": ""
           },
           "baxis": {
            "gridcolor": "#506784",
            "linecolor": "#506784",
            "ticks": ""
           },
           "bgcolor": "rgb(17,17,17)",
           "caxis": {
            "gridcolor": "#506784",
            "linecolor": "#506784",
            "ticks": ""
           }
          },
          "title": {
           "x": 0.05
          },
          "updatemenudefaults": {
           "bgcolor": "#506784",
           "borderwidth": 0
          },
          "xaxis": {
           "automargin": true,
           "gridcolor": "#283442",
           "linecolor": "#506784",
           "ticks": "",
           "title": {
            "standoff": 15
           },
           "zerolinecolor": "#283442",
           "zerolinewidth": 2
          },
          "yaxis": {
           "automargin": true,
           "gridcolor": "#283442",
           "linecolor": "#506784",
           "ticks": "",
           "title": {
            "standoff": 15
           },
           "zerolinecolor": "#283442",
           "zerolinewidth": 2
          }
         }
        },
        "title": {
         "text": "Pick up hour=2024-11-01 00:00:00, location_id=Loop"
        },
        "xaxis": {
         "anchor": "y",
         "domain": [
          0,
          1
         ],
         "title": {
          "text": "x"
         }
        },
        "yaxis": {
         "anchor": "x",
         "domain": [
          0,
          1
         ],
         "title": {
          "text": "y"
         }
        }
       }
      }
     },
     "metadata": {},
     "output_type": "display_data"
    }
   ],
   "source": [
    "from plot import plot_one_sample\n",
    "\n",
    "plot_one_sample(\n",
    "    example_id='Loop',\n",
    "    features=X_test,\n",
    "    targets=y_test,\n",
    "    predictions=pd.Series(predictions)\n",
    ")"
   ]
  }
 ],
 "metadata": {
  "kernelspec": {
   "display_name": ".venv",
   "language": "python",
   "name": "python3"
  },
  "language_info": {
   "codemirror_mode": {
    "name": "ipython",
    "version": 3
   },
   "file_extension": ".py",
   "mimetype": "text/x-python",
   "name": "python",
   "nbconvert_exporter": "python",
   "pygments_lexer": "ipython3",
   "version": "3.13.2"
  }
 },
 "nbformat": 4,
 "nbformat_minor": 2
}
