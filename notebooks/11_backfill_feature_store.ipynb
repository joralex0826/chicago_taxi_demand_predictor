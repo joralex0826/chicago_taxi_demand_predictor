{
 "cells": [
  {
   "cell_type": "code",
   "execution_count": 2,
   "metadata": {},
   "outputs": [],
   "source": [
    "HOPSWORKS_PROJECT_NAME = 'chicago_taxi_demand'"
   ]
  },
  {
   "cell_type": "code",
   "execution_count": 3,
   "metadata": {},
   "outputs": [],
   "source": [
    "import os\n",
    "from dotenv import load_dotenv\n",
    "from src.paths import PARENT_DIR\n",
    "\n",
    "load_dotenv(PARENT_DIR / '.env')\n",
    "HOPSWORKS_API_KEY = os.environ['HOPSWORKS_API_KEY']"
   ]
  },
  {
   "cell_type": "code",
   "execution_count": 4,
   "metadata": {},
   "outputs": [
    {
     "name": "stderr",
     "output_type": "stream",
     "text": [
      "Downloading...\n",
      "From (original): https://drive.google.com/uc?id=1dj6DhNhELjnxjziXIGlo4FhPneXauFV8\n",
      "From (redirected): https://drive.google.com/uc?id=1dj6DhNhELjnxjziXIGlo4FhPneXauFV8&confirm=t&uuid=bfe8b302-7ad6-4f06-8bed-8bc1f26af956\n",
      "To: C:\\Users\\joral_08cedew\\chicago_taxi_demand_predictor\\data\\raw\\taxi_trips.parquet\n",
      "100%|██████████| 437M/437M [00:11<00:00, 36.8MB/s] \n"
     ]
    },
    {
     "name": "stdout",
     "output_type": "stream",
     "text": [
      "Taxi data downloaded: C:\\Users\\joral_08cedew\\chicago_taxi_demand_predictor\\data\\raw\\taxi_trips.parquet\n",
      "Date range: 2024-01-01 00:00:00 to 2025-02-01 00:00:00\n"
     ]
    },
    {
     "data": {
      "text/html": [
       "<div>\n",
       "<style scoped>\n",
       "    .dataframe tbody tr th:only-of-type {\n",
       "        vertical-align: middle;\n",
       "    }\n",
       "\n",
       "    .dataframe tbody tr th {\n",
       "        vertical-align: top;\n",
       "    }\n",
       "\n",
       "    .dataframe thead th {\n",
       "        text-align: right;\n",
       "    }\n",
       "</style>\n",
       "<table border=\"1\" class=\"dataframe\">\n",
       "  <thead>\n",
       "    <tr style=\"text-align: right;\">\n",
       "      <th></th>\n",
       "      <th>pickup_datetime</th>\n",
       "      <th>pickup_latitude</th>\n",
       "      <th>pickup_longitude</th>\n",
       "    </tr>\n",
       "  </thead>\n",
       "  <tbody>\n",
       "    <tr>\n",
       "      <th>0</th>\n",
       "      <td>2024-01-19 17:00:00</td>\n",
       "      <td>41.979071</td>\n",
       "      <td>-87.903040</td>\n",
       "    </tr>\n",
       "    <tr>\n",
       "      <th>1</th>\n",
       "      <td>2024-01-28 14:30:00</td>\n",
       "      <td>41.944227</td>\n",
       "      <td>-87.655998</td>\n",
       "    </tr>\n",
       "    <tr>\n",
       "      <th>2</th>\n",
       "      <td>2024-01-05 09:00:00</td>\n",
       "      <td>41.944227</td>\n",
       "      <td>-87.655998</td>\n",
       "    </tr>\n",
       "    <tr>\n",
       "      <th>3</th>\n",
       "      <td>2024-01-22 08:45:00</td>\n",
       "      <td>41.980264</td>\n",
       "      <td>-87.913625</td>\n",
       "    </tr>\n",
       "    <tr>\n",
       "      <th>4</th>\n",
       "      <td>2024-01-18 19:15:00</td>\n",
       "      <td>41.880994</td>\n",
       "      <td>-87.632746</td>\n",
       "    </tr>\n",
       "    <tr>\n",
       "      <th>...</th>\n",
       "      <td>...</td>\n",
       "      <td>...</td>\n",
       "      <td>...</td>\n",
       "    </tr>\n",
       "    <tr>\n",
       "      <th>6905283</th>\n",
       "      <td>2024-12-31 11:30:00</td>\n",
       "      <td>41.899602</td>\n",
       "      <td>-87.633308</td>\n",
       "    </tr>\n",
       "    <tr>\n",
       "      <th>6905284</th>\n",
       "      <td>2024-12-31 15:15:00</td>\n",
       "      <td>41.954028</td>\n",
       "      <td>-87.763399</td>\n",
       "    </tr>\n",
       "    <tr>\n",
       "      <th>6905285</th>\n",
       "      <td>2024-12-31 10:45:00</td>\n",
       "      <td>NaN</td>\n",
       "      <td>NaN</td>\n",
       "    </tr>\n",
       "    <tr>\n",
       "      <th>6905286</th>\n",
       "      <td>2024-12-31 14:00:00</td>\n",
       "      <td>41.979071</td>\n",
       "      <td>-87.903040</td>\n",
       "    </tr>\n",
       "    <tr>\n",
       "      <th>6905287</th>\n",
       "      <td>2024-12-31 11:00:00</td>\n",
       "      <td>41.922686</td>\n",
       "      <td>-87.649489</td>\n",
       "    </tr>\n",
       "  </tbody>\n",
       "</table>\n",
       "<p>6905288 rows × 3 columns</p>\n",
       "</div>"
      ],
      "text/plain": [
       "            pickup_datetime  pickup_latitude  pickup_longitude\n",
       "0       2024-01-19 17:00:00        41.979071        -87.903040\n",
       "1       2024-01-28 14:30:00        41.944227        -87.655998\n",
       "2       2024-01-05 09:00:00        41.944227        -87.655998\n",
       "3       2024-01-22 08:45:00        41.980264        -87.913625\n",
       "4       2024-01-18 19:15:00        41.880994        -87.632746\n",
       "...                     ...              ...               ...\n",
       "6905283 2024-12-31 11:30:00        41.899602        -87.633308\n",
       "6905284 2024-12-31 15:15:00        41.954028        -87.763399\n",
       "6905285 2024-12-31 10:45:00              NaN               NaN\n",
       "6905286 2024-12-31 14:00:00        41.979071        -87.903040\n",
       "6905287 2024-12-31 11:00:00        41.922686        -87.649489\n",
       "\n",
       "[6905288 rows x 3 columns]"
      ]
     },
     "execution_count": 4,
     "metadata": {},
     "output_type": "execute_result"
    }
   ],
   "source": [
    "from datetime import datetime\n",
    "import pandas as pd\n",
    "from src.data import load_raw_data\n",
    "\n",
    "rides = load_raw_data()\n",
    "rides"
   ]
  },
  {
   "cell_type": "code",
   "execution_count": 5,
   "metadata": {},
   "outputs": [
    {
     "name": "stderr",
     "output_type": "stream",
     "text": [
      "Downloading...\n",
      "From: https://drive.google.com/uc?id=1AqIi-XKEuLosLZbMYTGTRbWEOWotz_pZ\n",
      "To: C:\\Users\\joral_08cedew\\chicago_taxi_demand_predictor\\data\\raw\\chicago_geo_data.parquet\n",
      "100%|██████████| 1.30M/1.30M [00:00<00:00, 3.51MB/s]\n"
     ]
    },
    {
     "name": "stdout",
     "output_type": "stream",
     "text": [
      "Geo data downloaded: C:\\Users\\joral_08cedew\\chicago_taxi_demand_predictor\\data\\raw\\chicago_geo_data.parquet\n"
     ]
    },
    {
     "data": {
      "text/html": [
       "<div>\n",
       "<style scoped>\n",
       "    .dataframe tbody tr th:only-of-type {\n",
       "        vertical-align: middle;\n",
       "    }\n",
       "\n",
       "    .dataframe tbody tr th {\n",
       "        vertical-align: top;\n",
       "    }\n",
       "\n",
       "    .dataframe thead th {\n",
       "        text-align: right;\n",
       "    }\n",
       "</style>\n",
       "<table border=\"1\" class=\"dataframe\">\n",
       "  <thead>\n",
       "    <tr style=\"text-align: right;\">\n",
       "      <th></th>\n",
       "      <th>pickup_datetime</th>\n",
       "      <th>pickup_latitude</th>\n",
       "      <th>pickup_longitude</th>\n",
       "      <th>pickup_location</th>\n",
       "    </tr>\n",
       "  </thead>\n",
       "  <tbody>\n",
       "    <tr>\n",
       "      <th>0</th>\n",
       "      <td>2024-01-19 17:00:00</td>\n",
       "      <td>41.979071</td>\n",
       "      <td>-87.903040</td>\n",
       "      <td>O'Hare</td>\n",
       "    </tr>\n",
       "    <tr>\n",
       "      <th>1</th>\n",
       "      <td>2024-01-28 14:30:00</td>\n",
       "      <td>41.944227</td>\n",
       "      <td>-87.655998</td>\n",
       "      <td>Lake View</td>\n",
       "    </tr>\n",
       "    <tr>\n",
       "      <th>2</th>\n",
       "      <td>2024-01-05 09:00:00</td>\n",
       "      <td>41.944227</td>\n",
       "      <td>-87.655998</td>\n",
       "      <td>Lake View</td>\n",
       "    </tr>\n",
       "    <tr>\n",
       "      <th>3</th>\n",
       "      <td>2024-01-22 08:45:00</td>\n",
       "      <td>41.980264</td>\n",
       "      <td>-87.913625</td>\n",
       "      <td>O'Hare</td>\n",
       "    </tr>\n",
       "    <tr>\n",
       "      <th>4</th>\n",
       "      <td>2024-01-18 19:15:00</td>\n",
       "      <td>41.880994</td>\n",
       "      <td>-87.632746</td>\n",
       "      <td>Loop</td>\n",
       "    </tr>\n",
       "    <tr>\n",
       "      <th>...</th>\n",
       "      <td>...</td>\n",
       "      <td>...</td>\n",
       "      <td>...</td>\n",
       "      <td>...</td>\n",
       "    </tr>\n",
       "    <tr>\n",
       "      <th>6905283</th>\n",
       "      <td>2024-12-31 11:30:00</td>\n",
       "      <td>41.899602</td>\n",
       "      <td>-87.633308</td>\n",
       "      <td>River North</td>\n",
       "    </tr>\n",
       "    <tr>\n",
       "      <th>6905284</th>\n",
       "      <td>2024-12-31 15:15:00</td>\n",
       "      <td>41.954028</td>\n",
       "      <td>-87.763399</td>\n",
       "      <td>Portage Park</td>\n",
       "    </tr>\n",
       "    <tr>\n",
       "      <th>6905285</th>\n",
       "      <td>2024-12-31 10:45:00</td>\n",
       "      <td>NaN</td>\n",
       "      <td>NaN</td>\n",
       "      <td>Outside Chicago</td>\n",
       "    </tr>\n",
       "    <tr>\n",
       "      <th>6905286</th>\n",
       "      <td>2024-12-31 14:00:00</td>\n",
       "      <td>41.979071</td>\n",
       "      <td>-87.903040</td>\n",
       "      <td>O'Hare</td>\n",
       "    </tr>\n",
       "    <tr>\n",
       "      <th>6905287</th>\n",
       "      <td>2024-12-31 11:00:00</td>\n",
       "      <td>41.922686</td>\n",
       "      <td>-87.649489</td>\n",
       "      <td>Sheffield &amp; DePaul</td>\n",
       "    </tr>\n",
       "  </tbody>\n",
       "</table>\n",
       "<p>6905288 rows × 4 columns</p>\n",
       "</div>"
      ],
      "text/plain": [
       "            pickup_datetime  pickup_latitude  pickup_longitude  \\\n",
       "0       2024-01-19 17:00:00        41.979071        -87.903040   \n",
       "1       2024-01-28 14:30:00        41.944227        -87.655998   \n",
       "2       2024-01-05 09:00:00        41.944227        -87.655998   \n",
       "3       2024-01-22 08:45:00        41.980264        -87.913625   \n",
       "4       2024-01-18 19:15:00        41.880994        -87.632746   \n",
       "...                     ...              ...               ...   \n",
       "6905283 2024-12-31 11:30:00        41.899602        -87.633308   \n",
       "6905284 2024-12-31 15:15:00        41.954028        -87.763399   \n",
       "6905285 2024-12-31 10:45:00              NaN               NaN   \n",
       "6905286 2024-12-31 14:00:00        41.979071        -87.903040   \n",
       "6905287 2024-12-31 11:00:00        41.922686        -87.649489   \n",
       "\n",
       "            pickup_location  \n",
       "0                    O'Hare  \n",
       "1                 Lake View  \n",
       "2                 Lake View  \n",
       "3                    O'Hare  \n",
       "4                      Loop  \n",
       "...                     ...  \n",
       "6905283         River North  \n",
       "6905284        Portage Park  \n",
       "6905285     Outside Chicago  \n",
       "6905286              O'Hare  \n",
       "6905287  Sheffield & DePaul  \n",
       "\n",
       "[6905288 rows x 4 columns]"
      ]
     },
     "execution_count": 5,
     "metadata": {},
     "output_type": "execute_result"
    }
   ],
   "source": [
    "from src.data import merge_geo_and_ts_data\n",
    "rides = merge_geo_and_ts_data(rides)\n",
    "rides"
   ]
  },
  {
   "cell_type": "code",
   "execution_count": 6,
   "metadata": {},
   "outputs": [
    {
     "name": "stderr",
     "output_type": "stream",
     "text": [
      "100%|██████████| 95/95 [00:02<00:00, 37.59it/s]\n"
     ]
    },
    {
     "data": {
      "text/html": [
       "<div>\n",
       "<style scoped>\n",
       "    .dataframe tbody tr th:only-of-type {\n",
       "        vertical-align: middle;\n",
       "    }\n",
       "\n",
       "    .dataframe tbody tr th {\n",
       "        vertical-align: top;\n",
       "    }\n",
       "\n",
       "    .dataframe thead th {\n",
       "        text-align: right;\n",
       "    }\n",
       "</style>\n",
       "<table border=\"1\" class=\"dataframe\">\n",
       "  <thead>\n",
       "    <tr style=\"text-align: right;\">\n",
       "      <th></th>\n",
       "      <th>pickup_hour</th>\n",
       "      <th>rides</th>\n",
       "      <th>pickup_longitude</th>\n",
       "      <th>pickup_latitude</th>\n",
       "      <th>pickup_location</th>\n",
       "    </tr>\n",
       "  </thead>\n",
       "  <tbody>\n",
       "    <tr>\n",
       "      <th>0</th>\n",
       "      <td>2024-01-01 00:00:00</td>\n",
       "      <td>2</td>\n",
       "      <td>-87.721559</td>\n",
       "      <td>41.968069</td>\n",
       "      <td>Albany Park</td>\n",
       "    </tr>\n",
       "    <tr>\n",
       "      <th>1</th>\n",
       "      <td>2024-01-01 01:00:00</td>\n",
       "      <td>0</td>\n",
       "      <td>-87.721559</td>\n",
       "      <td>41.968069</td>\n",
       "      <td>Albany Park</td>\n",
       "    </tr>\n",
       "    <tr>\n",
       "      <th>2</th>\n",
       "      <td>2024-01-01 02:00:00</td>\n",
       "      <td>0</td>\n",
       "      <td>-87.721559</td>\n",
       "      <td>41.968069</td>\n",
       "      <td>Albany Park</td>\n",
       "    </tr>\n",
       "    <tr>\n",
       "      <th>3</th>\n",
       "      <td>2024-01-01 03:00:00</td>\n",
       "      <td>3</td>\n",
       "      <td>-87.721559</td>\n",
       "      <td>41.968069</td>\n",
       "      <td>Albany Park</td>\n",
       "    </tr>\n",
       "    <tr>\n",
       "      <th>4</th>\n",
       "      <td>2024-01-01 04:00:00</td>\n",
       "      <td>0</td>\n",
       "      <td>-87.721559</td>\n",
       "      <td>41.968069</td>\n",
       "      <td>Albany Park</td>\n",
       "    </tr>\n",
       "    <tr>\n",
       "      <th>...</th>\n",
       "      <td>...</td>\n",
       "      <td>...</td>\n",
       "      <td>...</td>\n",
       "      <td>...</td>\n",
       "      <td>...</td>\n",
       "    </tr>\n",
       "    <tr>\n",
       "      <th>905250</th>\n",
       "      <td>2025-01-31 20:00:00</td>\n",
       "      <td>0</td>\n",
       "      <td>-87.671446</td>\n",
       "      <td>41.979796</td>\n",
       "      <td>Andersonville</td>\n",
       "    </tr>\n",
       "    <tr>\n",
       "      <th>905251</th>\n",
       "      <td>2025-01-31 21:00:00</td>\n",
       "      <td>0</td>\n",
       "      <td>-87.671446</td>\n",
       "      <td>41.979796</td>\n",
       "      <td>Andersonville</td>\n",
       "    </tr>\n",
       "    <tr>\n",
       "      <th>905252</th>\n",
       "      <td>2025-01-31 22:00:00</td>\n",
       "      <td>0</td>\n",
       "      <td>-87.671446</td>\n",
       "      <td>41.979796</td>\n",
       "      <td>Andersonville</td>\n",
       "    </tr>\n",
       "    <tr>\n",
       "      <th>905253</th>\n",
       "      <td>2025-01-31 23:00:00</td>\n",
       "      <td>0</td>\n",
       "      <td>-87.671446</td>\n",
       "      <td>41.979796</td>\n",
       "      <td>Andersonville</td>\n",
       "    </tr>\n",
       "    <tr>\n",
       "      <th>905254</th>\n",
       "      <td>2025-02-01 00:00:00</td>\n",
       "      <td>0</td>\n",
       "      <td>-87.671446</td>\n",
       "      <td>41.979796</td>\n",
       "      <td>Andersonville</td>\n",
       "    </tr>\n",
       "  </tbody>\n",
       "</table>\n",
       "<p>905255 rows × 5 columns</p>\n",
       "</div>"
      ],
      "text/plain": [
       "               pickup_hour  rides  pickup_longitude  pickup_latitude  \\\n",
       "0      2024-01-01 00:00:00      2        -87.721559        41.968069   \n",
       "1      2024-01-01 01:00:00      0        -87.721559        41.968069   \n",
       "2      2024-01-01 02:00:00      0        -87.721559        41.968069   \n",
       "3      2024-01-01 03:00:00      3        -87.721559        41.968069   \n",
       "4      2024-01-01 04:00:00      0        -87.721559        41.968069   \n",
       "...                    ...    ...               ...              ...   \n",
       "905250 2025-01-31 20:00:00      0        -87.671446        41.979796   \n",
       "905251 2025-01-31 21:00:00      0        -87.671446        41.979796   \n",
       "905252 2025-01-31 22:00:00      0        -87.671446        41.979796   \n",
       "905253 2025-01-31 23:00:00      0        -87.671446        41.979796   \n",
       "905254 2025-02-01 00:00:00      0        -87.671446        41.979796   \n",
       "\n",
       "       pickup_location  \n",
       "0          Albany Park  \n",
       "1          Albany Park  \n",
       "2          Albany Park  \n",
       "3          Albany Park  \n",
       "4          Albany Park  \n",
       "...                ...  \n",
       "905250   Andersonville  \n",
       "905251   Andersonville  \n",
       "905252   Andersonville  \n",
       "905253   Andersonville  \n",
       "905254   Andersonville  \n",
       "\n",
       "[905255 rows x 5 columns]"
      ]
     },
     "execution_count": 6,
     "metadata": {},
     "output_type": "execute_result"
    }
   ],
   "source": [
    "from src.data import transform_raw_data_into_ts_data\n",
    "\n",
    "ts_data = transform_raw_data_into_ts_data(rides)\n",
    "ts_data"
   ]
  },
  {
   "cell_type": "code",
   "execution_count": 7,
   "metadata": {},
   "outputs": [],
   "source": [
    "# string to datetime\n",
    "ts_data['pickup_hour'] = pd.to_datetime(ts_data['pickup_hour'], utc=True)\n",
    "\n",
    "# add column with Unix epoch milliseconds\n",
    "ts_data['pickup_ts'] = ts_data['pickup_hour'].astype('int64') // 10**6"
   ]
  },
  {
   "cell_type": "code",
   "execution_count": 8,
   "metadata": {},
   "outputs": [
    {
     "name": "stdout",
     "output_type": "stream",
     "text": [
      "<class 'pandas.core.frame.DataFrame'>\n",
      "RangeIndex: 905255 entries, 0 to 905254\n",
      "Data columns (total 6 columns):\n",
      " #   Column            Non-Null Count   Dtype              \n",
      "---  ------            --------------   -----              \n",
      " 0   pickup_hour       905255 non-null  datetime64[ns, UTC]\n",
      " 1   rides             905255 non-null  int64              \n",
      " 2   pickup_longitude  905255 non-null  float64            \n",
      " 3   pickup_latitude   905255 non-null  float64            \n",
      " 4   pickup_location   905255 non-null  object             \n",
      " 5   pickup_ts         905255 non-null  int64              \n",
      "dtypes: datetime64[ns, UTC](1), float64(2), int64(2), object(1)\n",
      "memory usage: 41.4+ MB\n"
     ]
    }
   ],
   "source": [
    "ts_data.info()"
   ]
  },
  {
   "cell_type": "code",
   "execution_count": 9,
   "metadata": {},
   "outputs": [],
   "source": [
    "import hopsworks"
   ]
  },
  {
   "cell_type": "code",
   "execution_count": 10,
   "metadata": {},
   "outputs": [
    {
     "name": "stdout",
     "output_type": "stream",
     "text": [
      "2025-03-30 15:30:07,544 INFO: Initializing external client\n",
      "2025-03-30 15:30:07,545 INFO: Base URL: https://c.app.hopsworks.ai:443\n",
      "2025-03-30 15:30:08,805 INFO: Python Engine initialized.\n",
      "\n",
      "Logged in to project, explore it here https://c.app.hopsworks.ai:443/p/1220769\n"
     ]
    }
   ],
   "source": [
    "project = hopsworks.login(\n",
    "    project=HOPSWORKS_PROJECT_NAME,\n",
    "    api_key_value=HOPSWORKS_API_KEY\n",
    ")"
   ]
  },
  {
   "cell_type": "code",
   "execution_count": 11,
   "metadata": {},
   "outputs": [],
   "source": [
    "feature_store = project.get_feature_store()"
   ]
  },
  {
   "cell_type": "code",
   "execution_count": 12,
   "metadata": {},
   "outputs": [
    {
     "data": {
      "text/plain": [
       "<hsfs.feature_store.FeatureStore at 0x1e760733d10>"
      ]
     },
     "execution_count": 12,
     "metadata": {},
     "output_type": "execute_result"
    }
   ],
   "source": [
    "feature_store"
   ]
  },
  {
   "cell_type": "code",
   "execution_count": 13,
   "metadata": {},
   "outputs": [],
   "source": [
    "FEATURE_GROUP_NAME = 'time_series_hourly_feature_group'\n",
    "FEATURE_GROUP_VERSION = 1"
   ]
  },
  {
   "cell_type": "code",
   "execution_count": 14,
   "metadata": {},
   "outputs": [],
   "source": [
    "feature_group = feature_store.get_or_create_feature_group(\n",
    "    name=FEATURE_GROUP_NAME,\n",
    "    version=FEATURE_GROUP_VERSION,\n",
    "    description=\"Time-series data at hourly frequency\",\n",
    "    primary_key = ['pickup_location', 'pickup_hour'],\n",
    "    event_time='pickup_hour',\n",
    ")"
   ]
  },
  {
   "cell_type": "code",
   "execution_count": 15,
   "metadata": {},
   "outputs": [],
   "source": [
    "#This cell is because an error when uploading data\n",
    "\n",
    "from confluent_kafka import Producer, Consumer, TopicPartition\n",
    "import hsfs.core.kafka_engine\n",
    "\n",
    "# Forzar la asignación de Producer y Consumer\n",
    "hsfs.core.kafka_engine.Producer = Producer  \n",
    "hsfs.core.kafka_engine.Consumer = Consumer  \n",
    "hsfs.core.kafka_engine.TopicPartition = TopicPartition"
   ]
  },
  {
   "cell_type": "code",
   "execution_count": 16,
   "metadata": {},
   "outputs": [
    {
     "name": "stdout",
     "output_type": "stream",
     "text": [
      "Feature Group created successfully, explore it at \n",
      "https://c.app.hopsworks.ai:443/p/1220769/fs/1208402/fg/1423019\n"
     ]
    },
    {
     "name": "stderr",
     "output_type": "stream",
     "text": [
      "Uploading Dataframe: 100.00% |██████████| Rows 905255/905255 | Elapsed Time: 00:52 | Remaining Time: 00:00\n"
     ]
    },
    {
     "name": "stdout",
     "output_type": "stream",
     "text": [
      "Launching job: time_series_hourly_feature_group_1_offline_fg_materialization\n",
      "Job started successfully, you can follow the progress at \n",
      "https://c.app.hopsworks.ai:443/p/1220769/jobs/named/time_series_hourly_feature_group_1_offline_fg_materialization/executions\n"
     ]
    },
    {
     "data": {
      "text/plain": [
       "(Job('time_series_hourly_feature_group_1_offline_fg_materialization', 'SPARK'),\n",
       " None)"
      ]
     },
     "execution_count": 16,
     "metadata": {},
     "output_type": "execute_result"
    }
   ],
   "source": [
    "feature_group.insert(ts_data,write_options={\"wait_for_job\":False})"
   ]
  }
 ],
 "metadata": {
  "kernelspec": {
   "display_name": ".venv",
   "language": "python",
   "name": "python3"
  },
  "language_info": {
   "codemirror_mode": {
    "name": "ipython",
    "version": 3
   },
   "file_extension": ".py",
   "mimetype": "text/x-python",
   "name": "python",
   "nbconvert_exporter": "python",
   "pygments_lexer": "ipython3",
   "version": "3.12.9"
  }
 },
 "nbformat": 4,
 "nbformat_minor": 2
}
